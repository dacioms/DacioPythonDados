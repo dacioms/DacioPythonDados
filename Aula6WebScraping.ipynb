{
 "cells": [
  {
   "cell_type": "markdown",
   "metadata": {},
   "source": [
    "# Realizar Web Scraping com Python"
   ]
  },
  {
   "cell_type": "markdown",
   "metadata": {},
   "source": [
    "\n",
    "## Objetivo:\n",
    "Introduzindo o conceito de web scraping usando Python.\n",
    "- Extrair dados de páginas web de forma eficiente e ética.\n"
   ]
  },
  {
   "cell_type": "markdown",
   "metadata": {},
   "source": [
    "### O que é web scraping\n",
    "Cenários possíveis de ser utilizado: na coleta de dados para análise de mercado, monitoramento de preços, ou agregação de conteúdo."
   ]
  },
  {
   "cell_type": "markdown",
   "metadata": {},
   "source": [
    "### Importante de considerar a legalidade e a ética do web scraping.\n",
    "Arquivo robots.txt das páginas e o impacto de suas ações no servidor alvo."
   ]
  },
  {
   "cell_type": "markdown",
   "metadata": {},
   "source": [
    "#### Fazendo Requisições Web em Python\n",
    "- Biblioteca requests para fazer solicitações HTTP em Python.\n",
    "- Usar requests.get() para recuperar o conteúdo de uma página web."
   ]
  },
  {
   "cell_type": "code",
   "execution_count": 85,
   "metadata": {},
   "outputs": [
    {
     "name": "stdout",
     "output_type": "stream",
     "text": [
      "\n",
      "\t\t\t\t<div style='height: 98vh;'>\n",
      "\t\t\t\t\t<div style='text-align: center; padding: 10% 0; font-family: Arial, Helvetica, sans-serif;'>\n",
      "\t\t\t\t\t\t<div><p>MalCare WordPress Security Plugin - Malware Scanner, Cleaner, Security Firewall Firewall</p></div>\n",
      "\t\t\t\t\t\t<p>Blocked because of Malicious Activities</p>\n",
      "\t\t\t\t\t\t<p>Reference ID: 13465891926643ce915e565</p>\n",
      "\t\t\t\t\t</div>\n",
      "\t\t\t\t</div>\n",
      "\t\t\t\n"
     ]
    }
   ],
   "source": [
    "import requests\n",
    "\n",
    "# url = 'https://webscraper.io/test-sites/e-commerce/allinone'\n",
    "url = 'https://infnet.edu.br'\n",
    "resposta = requests.get(url)\n",
    "print(resposta.text)\n"
   ]
  },
  {
   "cell_type": "markdown",
   "metadata": {},
   "source": [
    "### Propriedades do Response\n",
    "\n"
   ]
  },
  {
   "cell_type": "markdown",
   "metadata": {},
   "source": [
    "- `Propriedade/Método`\tDescrição\n",
    "- `apparent_encoding`\tRetorna a codificação aparente\n",
    "- `close()`\tFecha a conexão com o servidor\n",
    "- `content`\tRetorna o conteúdo da resposta, em bytes\n",
    "- `cookies`\tRetorna um objeto CookieJar com os cookies enviados de volta do servidor\n",
    "- `elapsed`\tRetorna um objeto timedelta com o tempo decorrido desde o envio da solicitação até a chegada da resposta\n",
    "- `encoding`\tRetorna a codificação usada para decodificar r.text\n",
    "- `headers`\tRetorna um dicionário de cabeçalhos de resposta\n",
    "- `history`\tRetorna uma lista de objetos de resposta contendo o histórico da solicitação (url)\n",
    "- `is_permanent_redirect`\tRetorna True se a resposta for o URL redirecionado permanente, caso contrário, False\n",
    "- `is_redirect`\tRetorna True se a resposta foi redirecionada, caso contrário, False\n",
    "- `iter_content()`\tItera sobre a resposta\n",
    "- `iter_lines()`\tItera sobre as linhas da resposta\n",
    "- `json()`\tRetorna um objeto JSON do resultado (se o resultado foi escrito no formato JSON, caso contrário gera um erro)\n",
    "- `links`\tRetorna os links do cabeçalho\n",
    "- `next`\tRetorna um objeto PreparedRequest para a próxima solicitação em um redirecionamento\n",
    "- `ok`\tRetorna True se status_code for menor que 400, caso contrário, False\n",
    "- `raise_for_status()`\tSe ocorrer um erro, este método retorna um objeto HTTPError\n",
    "- `reason`\tRetorna um texto correspondente ao código de status\n",
    "- `request`\tRetorna o objeto request que solicitou esta resposta\n",
    "- `status_code`\tRetorna um número que indica o status (200 é OK, 404 é Não Encontrado)\n",
    "- `text`\tRetorna o conteúdo da resposta, em unicode\n",
    "- `url`\tRetorna a URL da resposta"
   ]
  },
  {
   "cell_type": "markdown",
   "metadata": {},
   "source": [
    "### Parsing de HTML com BeautifulSoup\n",
    "Biblioteca BeautifulSoup é uma ferramenta para analisar / decompor / parsear o HTML obtido e extrair informações de interesse."
   ]
  },
  {
   "cell_type": "code",
   "execution_count": 84,
   "metadata": {},
   "outputs": [],
   "source": [
    "from bs4 import BeautifulSoup\n",
    "\n",
    "soup = BeautifulSoup(resposta.content, 'html.parser')\n",
    "titulos = soup.find_all('a')\n",
    "for titulo in titulos:\n",
    "    print(titulo.text)\n",
    "# print(soup.prettify())    \n",
    "# temperatura = soup.find(\"span\", class_=\"_block _margin-b-5 -gray\")\n",
    "\n",
    "\n"
   ]
  },
  {
   "cell_type": "markdown",
   "metadata": {},
   "source": [
    "#### Extrair Dados Específicos\n",
    "Utilizar os métodos de BeautifulSoup para extrair informações específicas de elementos HTML, como atributos e textos."
   ]
  },
  {
   "cell_type": "code",
   "execution_count": 29,
   "metadata": {},
   "outputs": [
    {
     "name": "stdout",
     "output_type": "stream",
     "text": [
      "Titulo da pagina: \n",
      "\t\t\tInstituto Infnet\t\t\n"
     ]
    }
   ],
   "source": [
    "\n",
    "# Fazendo download de uma pagina web com requests\n",
    "import requests\n",
    "from bs4 import BeautifulSoup\n",
    "\n",
    "url = 'https://infnet.edu.br'\n",
    "resposta = requests.get(url)\n",
    "\n",
    "# Utilizando BeautifulSoup para parsear o HTML\n",
    "soup = BeautifulSoup(resposta.text, 'html.parser')\n",
    "\n",
    "# Extraindo o titulo da pagina\n",
    "titulo = soup.title.text\n",
    "print('Titulo da pagina:', titulo)\n"
   ]
  },
  {
   "cell_type": "code",
   "execution_count": null,
   "metadata": {},
   "outputs": [],
   "source": [
    "\n",
    "# Exemplo de extracao de links de uma pagina\n",
    "links = soup.find_all('a')\n",
    "for link in links:\n",
    "    print(link.get('href'))\n"
   ]
  },
  {
   "cell_type": "markdown",
   "metadata": {},
   "source": [
    "### Usando o BeautifulSoup para analisar HTML"
   ]
  },
  {
   "cell_type": "markdown",
   "metadata": {},
   "source": [
    "#### Principais Métodos do BeautifulSoup"
   ]
  },
  {
   "cell_type": "code",
   "execution_count": null,
   "metadata": {},
   "outputs": [],
   "source": [
    "from bs4 import BeautifulSoup\n",
    "\n",
    "html_doc = \"\"\"\n",
    "<html>\n",
    "  <head><title>Exemplo de Página</title></head>\n",
    "  <body>\n",
    "    <p class=\"title\"><b>Exemplo de Página</b></p>\n",
    "    <p class=\"story\">Era uma vez uma história interessante.</p>\n",
    "    <p class=\"story\">Outra história interessante.</p>\n",
    "    <a href=\"http://example.com/page1\" class=\"link\" id=\"link1\">Link 1</a>\n",
    "    <a href=\"http://example.com/page2\" class=\"link\" id=\"link2\">Link 2</a>\n",
    "  </body>\n",
    "</html>\n",
    "\"\"\"\n",
    "\n",
    "soup = BeautifulSoup(html_doc, 'lxml')\n"
   ]
  },
  {
   "cell_type": "markdown",
   "metadata": {},
   "source": [
    "### Métodos Principais\n",
    "##### Navegação na Árvore\n",
    "- soup.title: Retorna o primeiro elemento <title>.\n"
   ]
  },
  {
   "cell_type": "code",
   "execution_count": null,
   "metadata": {},
   "outputs": [],
   "source": [
    "\n",
    "print(soup.title)  # <title>Exemplo de Página</title>\n"
   ]
  },
  {
   "cell_type": "markdown",
   "metadata": {},
   "source": [
    "- soup.title.name: Retorna o nome da tag.\n"
   ]
  },
  {
   "cell_type": "code",
   "execution_count": null,
   "metadata": {},
   "outputs": [],
   "source": [
    "\n",
    "print(soup.title.name)  # title\n"
   ]
  },
  {
   "cell_type": "markdown",
   "metadata": {},
   "source": [
    "- soup.title.string: Retorna o texto contido na tag.\n"
   ]
  },
  {
   "cell_type": "code",
   "execution_count": null,
   "metadata": {},
   "outputs": [],
   "source": [
    "\n",
    "print(soup.title.string)  # Exemplo de Página\n"
   ]
  },
  {
   "cell_type": "markdown",
   "metadata": {},
   "source": [
    "- soup.title.parent.name: Retorna o nome da tag pai do título.\n"
   ]
  },
  {
   "cell_type": "code",
   "execution_count": null,
   "metadata": {},
   "outputs": [],
   "source": [
    "\n",
    "print(soup.title.parent.name)  # head\n"
   ]
  },
  {
   "cell_type": "markdown",
   "metadata": {},
   "source": [
    "- soup.p: Retorna o primeiro parágrafo.\n"
   ]
  },
  {
   "cell_type": "code",
   "execution_count": null,
   "metadata": {},
   "outputs": [],
   "source": [
    "\n",
    "print(soup.p)  # <p class=\"title\"><b>Exemplo de Página</b></p>\n"
   ]
  },
  {
   "cell_type": "markdown",
   "metadata": {},
   "source": [
    "soup.p['class']: Retorna os atributos da tag.\n"
   ]
  },
  {
   "cell_type": "code",
   "execution_count": null,
   "metadata": {},
   "outputs": [],
   "source": [
    "\n",
    "print(soup.p['class'])  # ['title']\n"
   ]
  },
  {
   "cell_type": "markdown",
   "metadata": {},
   "source": [
    "soup.a: Retorna o primeiro link.\n"
   ]
  },
  {
   "cell_type": "code",
   "execution_count": null,
   "metadata": {},
   "outputs": [],
   "source": [
    "\n",
    "print(soup.a)  # <a href=\"http://example.com/page1\" class=\"link\" id=\"link1\">Link 1</a>"
   ]
  },
  {
   "cell_type": "markdown",
   "metadata": {},
   "source": [
    "- soup.find_all('a'): Retorna todos os links.\n"
   ]
  },
  {
   "cell_type": "code",
   "execution_count": null,
   "metadata": {},
   "outputs": [],
   "source": [
    "print(soup.find_all('a'))\n",
    "# [<a href=\"http://example.com/page1\" class=\"link\" id=\"link1\">Link 1</a>, <a href=\"http://example.com/page2\" class=\"link\" id=\"link2\">Link 2</a>]\n"
   ]
  },
  {
   "cell_type": "markdown",
   "metadata": {},
   "source": [
    "- soup.find(id='link2'): Retorna o elemento com o ID especificado.\n"
   ]
  },
  {
   "cell_type": "code",
   "execution_count": null,
   "metadata": {},
   "outputs": [],
   "source": [
    "\n",
    "print(soup.find(id='link2'))  # <a href=\"http://example.com/page2\" class=\"link\" id=\"link2\">Link 2</a>\n"
   ]
  },
  {
   "cell_type": "markdown",
   "metadata": {},
   "source": [
    "#### Modificação da Árvore\n",
    "soup.p['class'] = 'newClass': Modifica o valor de um atributo.\n"
   ]
  },
  {
   "cell_type": "code",
   "execution_count": null,
   "metadata": {},
   "outputs": [],
   "source": [
    "\n",
    "soup.p['class'] = 'newClass'\n",
    "print(soup.p)  # <p class=\"newClass\"><b>Exemplo de Página</b></p>\n"
   ]
  },
  {
   "cell_type": "markdown",
   "metadata": {},
   "source": [
    "- soup.a.decompose(): Remove o elemento da árvore.\n"
   ]
  },
  {
   "cell_type": "code",
   "execution_count": null,
   "metadata": {},
   "outputs": [],
   "source": [
    "soup.a.decompose()\n",
    "print(soup)  # O primeiro link é removido do HTML"
   ]
  },
  {
   "cell_type": "markdown",
   "metadata": {},
   "source": [
    "#### Métodos de Busca\n",
    "- soup.find_all('p'): Encontra todas as tags <p>.\n"
   ]
  },
  {
   "cell_type": "code",
   "execution_count": null,
   "metadata": {},
   "outputs": [],
   "source": [
    "\n",
    "print(soup.find_all('p'))\n",
    "# [<p class=\"newClass\"><b>Exemplo de Página</b></p>, <p class=\"story\">Era uma vez uma história interessante.</p>, <p class=\"story\">Outra história interessante.</p>]\n"
   ]
  },
  {
   "cell_type": "markdown",
   "metadata": {},
   "source": [
    "- soup.find('p', class_='story'): Encontra a primeira tag <p> com a classe story.\n"
   ]
  },
  {
   "cell_type": "code",
   "execution_count": null,
   "metadata": {},
   "outputs": [],
   "source": [
    "\n",
    "print(soup.find('p', class_='story'))\n",
    "# <p class=\"story\">Era uma vez uma história interessante.</p>\n"
   ]
  },
  {
   "cell_type": "markdown",
   "metadata": {},
   "source": [
    "- soup.select('a[href]'): Seleciona tags usando seletores CSS.\n"
   ]
  },
  {
   "cell_type": "code",
   "execution_count": null,
   "metadata": {},
   "outputs": [],
   "source": [
    "\n",
    "print(soup.select('a[href]'))\n",
    "# [<a href=\"http://example.com/page1\" class=\"link\" id=\"link1\">Link 1</a>, <a href=\"http://example.com/page2\" class=\"link\" id=\"link2\">Link 2</a>]\n"
   ]
  },
  {
   "cell_type": "markdown",
   "metadata": {},
   "source": [
    "- soup.select_one('p.story'): Seleciona o primeiro elemento que corresponde ao seletor CSS.\n"
   ]
  },
  {
   "cell_type": "code",
   "execution_count": null,
   "metadata": {},
   "outputs": [],
   "source": [
    "\n",
    "print(soup.select_one('p.story'))\n",
    "# <p class=\"story\">Era uma vez uma história interessante.</p>"
   ]
  },
  {
   "cell_type": "markdown",
   "metadata": {},
   "source": [
    "\n",
    "## Desafio:\n",
    "Escolha um site de sua preferencia (que permita web scraping) e escreva um script que extraia titulos de artigos ou produtos listados na pagina. O script deve armazenar os titulos extraidos em uma lista.\n"
   ]
  },
  {
   "cell_type": "markdown",
   "metadata": {},
   "source": [
    "Criar um script de web scraping que coleta informações de um site de notícias, extraindo títulos de artigos e os respectivos links. \n",
    "Prestar atenção especial à ética do web scraping, garantindo não sobrecarregar o servidor."
   ]
  },
  {
   "cell_type": "markdown",
   "metadata": {
    "vscode": {
     "languageId": "shellscript"
    }
   },
   "source": [
    "## Scrapping ético\n"
   ]
  },
  {
   "cell_type": "markdown",
   "metadata": {},
   "source": [
    "#### Sites que geralmente permitem webscrapping (com ressalvas):\n",
    "\n",
    "- Sites governamentais: Muitos portais de dados abertos do governo permitem a coleta de informações públicas. Exemplos:\n",
    "- Dados Abertos Brasil: dados.gov.br\n",
    "- Portal da Transparência: portaldatransparencia.gov.br\n",
    "- Sites de notícias: Alguns sites de notícias permitem a coleta de manchetes e resumos, mas geralmente proíbem a cópia integral de artigos. Exemplos:\n",
    "- G1: g1.globo.com\n",
    "- Folha de S.Paulo\n",
    "- Wikipedia: A Wikipédia permite a coleta de dados, desde que se siga a licença Creative Commons e se dê os devidos créditos.\n",
    "- Sites de comércio eletrônico: Alguns sites permitem a coleta de informações de produtos, como preços e descrições, para fins de comparação. Exemplos:\n",
    "- Buscapé\n",
    "- Zoom: zoom.com.br\n",
    "- Redes sociais: Algumas redes sociais permitem a coleta de dados públicos de perfis, como nome, foto e número de seguidores. Exemplos:\n",
    "- Twitter: twitter.com (com API)\n",
    "- LinkedIn: linkedin.com (com API)\n",
    "\n",
    "\n",
    "#\n",
    "- IMDB - Banco de dados sobre filmes, séries, e personalidades do cinema.\n",
    "- Reddit - Forum com discussões e postagens sobre praticamente qualquer tópico.\n",
    "- Twitter - Dados em tempo real sobre eventos, opiniões públicas e tendências.\n",
    "- Amazon - Informações sobre produtos, preços e avaliações de consumidores.\n",
    "- Indeed - Site de busca de empregos, ótimo para coletar dados sobre oportunidades de trabalho e tendências no mercado de trabalho.\n",
    "- Craigslist - Classificados online que fornecem dados sobre uma variedade de categorias, incluindo empregos, serviços e produtos usados.\n",
    "- GitHub - Repositório de código-fonte e documentação de projetos de software.\n",
    "- Stack Overflow - Fórum de perguntas e respostas focado em programação e desenvolvimento de software.\n",
    "- Google News - Agregador de notícias de várias fontes, útil para obter dados atualizados sobre eventos atuais.\n",
    "\n",
    "#### Importante:\n",
    "\n",
    "- Robots.txt: Antes de realizar webscrapping, sempre verifique o arquivo robots.txt do site. Ele indica quais partes do site podem ser coletadas por robôs.\n",
    "- Termos de Uso: Leia atentamente os termos de uso do site. Alguns sites proíbem explicitamente o webscrapping.\n",
    "- Respeite o site: Não sobrecarregue o servidor do site com muitas requisições. Faça pausas entre as requisições e use um user agent que se identifique como um robô.\n",
    "- Lei Geral de Proteção de Dados (LGPD): Ao coletar dados pessoais, esteja ciente da LGPD e utilize os dados de forma ética e responsável."
   ]
  },
  {
   "cell_type": "markdown",
   "metadata": {},
   "source": [
    "\n",
    "### robots.txt\n",
    "\n",
    "Estrutura Básica\n",
    "Um arquivo robots.txt geralmente contém duas partes principais: User-agent e Disallow (ou Allow). Veja um exemplo básico:\n"
   ]
  },
  {
   "cell_type": "code",
   "execution_count": null,
   "metadata": {
    "vscode": {
     "languageId": "shellscript"
    }
   },
   "outputs": [],
   "source": [
    "User-agent: *\n",
    "Disallow: /admin/\n",
    "Allow: /public/"
   ]
  },
  {
   "cell_type": "markdown",
   "metadata": {},
   "source": [
    "- User-agent: Especifica a qual bot as regras se aplicam. O caractere * significa todos os bots.\n",
    "- Disallow: Bloqueia o acesso do bot à URL especificada. No exemplo, bloqueia o acesso à pasta /admin/.\n",
    "- Allow: Permite o acesso do bot à URL especificada, mesmo que uma regra Disallow mais abrangente exista. No exemplo, permite o acesso à pasta /public/.\n"
   ]
  },
  {
   "cell_type": "markdown",
   "metadata": {},
   "source": [
    "### Exemplos Comuns de Regras\n",
    "Aqui estão alguns exemplos comuns de regras encontradas em arquivos robots.txt:\n",
    "\n"
   ]
  },
  {
   "cell_type": "markdown",
   "metadata": {},
   "source": [
    "- Bloquear todo o site para todos os bots:\n"
   ]
  },
  {
   "cell_type": "code",
   "execution_count": null,
   "metadata": {
    "vscode": {
     "languageId": "shellscript"
    }
   },
   "outputs": [],
   "source": [
    "\n",
    "User-agent: *\n",
    "Disallow: /\n"
   ]
  },
  {
   "cell_type": "markdown",
   "metadata": {},
   "source": [
    "- Permitir acesso completo ao site para todos os bots:\n"
   ]
  },
  {
   "cell_type": "code",
   "execution_count": null,
   "metadata": {
    "vscode": {
     "languageId": "shellscript"
    }
   },
   "outputs": [],
   "source": [
    "\n",
    "User-agent: *\n",
    "Disallow:"
   ]
  },
  {
   "cell_type": "markdown",
   "metadata": {},
   "source": [
    "- Bloquear uma página específica:\n"
   ]
  },
  {
   "cell_type": "code",
   "execution_count": null,
   "metadata": {
    "vscode": {
     "languageId": "shellscript"
    }
   },
   "outputs": [],
   "source": [
    "\n",
    "User-agent: *\n",
    "Disallow: /pagina-privada.html\n"
   ]
  },
  {
   "cell_type": "markdown",
   "metadata": {},
   "source": [
    "- Bloquear uma pasta específica:\n"
   ]
  },
  {
   "cell_type": "code",
   "execution_count": null,
   "metadata": {
    "vscode": {
     "languageId": "shellscript"
    }
   },
   "outputs": [],
   "source": [
    "\n",
    "User-agent: *\n",
    "Disallow: /pasta-privada/\n"
   ]
  },
  {
   "cell_type": "markdown",
   "metadata": {},
   "source": [
    "- Permitir uma página específica em uma pasta bloqueada:\n"
   ]
  },
  {
   "cell_type": "code",
   "execution_count": null,
   "metadata": {
    "vscode": {
     "languageId": "shellscript"
    }
   },
   "outputs": [],
   "source": [
    "\n",
    "User-agent: *\n",
    "Disallow: /pasta-privada/\n",
    "Allow: /pasta-privada/pagina-publica.html\n"
   ]
  },
  {
   "cell_type": "markdown",
   "metadata": {},
   "source": [
    "### Comandos Avançados\n",
    "Além dos comandos básicos, há outros mais avançados, como Sitemap e Crawl-delay:\n",
    "\n",
    "Sitemap: Informa ao bot a localização do sitemap do site.\n"
   ]
  },
  {
   "cell_type": "code",
   "execution_count": null,
   "metadata": {
    "vscode": {
     "languageId": "shellscript"
    }
   },
   "outputs": [],
   "source": [
    "\n",
    "Sitemap: http://www.exemplo.com/sitemap.xml\n"
   ]
  },
  {
   "cell_type": "markdown",
   "metadata": {},
   "source": [
    "- Crawl-delay: Define um atraso em segundos entre solicitações feitas pelo bot. Nem todos os bots suportam esse comando.\n"
   ]
  },
  {
   "cell_type": "code",
   "execution_count": null,
   "metadata": {
    "vscode": {
     "languageId": "shellscript"
    }
   },
   "outputs": [],
   "source": [
    "\n",
    "User-agent: *\n",
    "Crawl-delay: 10\n"
   ]
  },
  {
   "cell_type": "markdown",
   "metadata": {},
   "source": [
    "### Interpretação\n",
    "Para interpretar um arquivo robots.txt, siga estas etapas:\n",
    "\n",
    "- Identifique o User-agent: Veja a quais bots a regra se aplica.\n",
    "- Leia as regras Disallow e Allow: Determine quais URLs estão bloqueadas ou permitidas.\n",
    "- Procure por regras gerais e específicas: Regras específicas geralmente vêm depois das regras gerais e podem sobrescrever as anteriores.\n",
    "- Considere o Sitemap e Crawl-delay se presentes: Isso pode fornecer informações adicionais sobre a indexação e a velocidade de rastreamento.\n"
   ]
  },
  {
   "cell_type": "markdown",
   "metadata": {},
   "source": [
    "##### Exemplo Prático\n",
    "Aqui está um exemplo completo e sua interpretação:\n"
   ]
  },
  {
   "cell_type": "code",
   "execution_count": null,
   "metadata": {
    "vscode": {
     "languageId": "shellscript"
    }
   },
   "outputs": [],
   "source": [
    "\n",
    "User-agent: Googlebot\n",
    "Disallow: /admin/\n",
    "Allow: /admin/pagina-publica.html\n",
    "\n",
    "User-agent: *\n",
    "Disallow: /privado/\n",
    "Sitemap: http://www.exemplo.com/sitemap.xml\n"
   ]
  },
  {
   "cell_type": "markdown",
   "metadata": {},
   "source": [
    "- Googlebot: Não pode acessar /admin/ mas pode acessar /admin/pagina-publica.html.\n",
    "- Todos os outros bots: Não podem acessar /privado/.\n",
    "- Todos os bots: Podem encontrar o sitemap em http://www.exemplo.com/sitemap.xml.\n",
    "  \n",
    "Essas regras ajudam a gerenciar como e o que os bots podem indexar em seu site, garantindo que áreas sensíveis ou desnecessárias não sejam rastreadas e que o foco esteja no conteúdo relevante."
   ]
  },
  {
   "cell_type": "markdown",
   "metadata": {},
   "source": [
    "# Técnicas Avancadas de Web Scraping"
   ]
  },
  {
   "cell_type": "markdown",
   "metadata": {},
   "source": [
    "\n",
    "## Usando Regex para lidar com scraping\n",
    "Técnicas avancadas de web scraping que permitem lidar com paginas web mais complexas e extrair dados de maneira eficiente e robusta.\n"
   ]
  },
  {
   "cell_type": "code",
   "execution_count": 35,
   "metadata": {},
   "outputs": [
    {
     "name": "stdout",
     "output_type": "stream",
     "text": [
      "Numeros de CEP encontrados: ['20010-020', '20041-005']\n"
     ]
    }
   ],
   "source": [
    "\n",
    "# Uso de expressoes regulares em web scraping\n",
    "import re\n",
    "from bs4 import BeautifulSoup\n",
    "import requests\n",
    "\n",
    "url = 'http://infnet.edu.br'\n",
    "resposta = requests.get(url)\n",
    "soup = BeautifulSoup(resposta.text, 'html.parser')\n",
    "\n",
    "# Usando expressões regulares para encontrar todos os numeros de telefone no texto\n",
    "cep = re.findall(r'\\d{5}-\\d{3}', soup.text)\n",
    "print('Numeros de CEP encontrados:', cep)\n"
   ]
  },
  {
   "cell_type": "markdown",
   "metadata": {},
   "source": [
    "Certifique-se de que seu padrão regex esteja correto. Teste seu padrão em sites como regex101.com para verificar se ele corresponde aos dados que você deseja extrair.\n"
   ]
  },
  {
   "cell_type": "markdown",
   "metadata": {},
   "source": [
    "### Manipulação de Exceções Durante o Scraping\n",
    "É importante prever e lidar com possíveis exceções durante o processo de scraping, como conexões falhas, mudanças inesperadas na estrutura da página, ou limitações impostas pelo servidor."
   ]
  },
  {
   "cell_type": "code",
   "execution_count": null,
   "metadata": {},
   "outputs": [],
   "source": [
    "try:\n",
    "    resposta = requests.get('http://exemplo.com')\n",
    "    resposta.raise_for_status()  # Irá lançar uma exceção para respostas 4xx/5xx\n",
    "    # Continuação do processo de scraping...\n",
    "except requests.exceptions.HTTPError as errh:\n",
    "    print (\"Http Error:\",errh)\n",
    "except requests.exceptions.ConnectionError as errc:\n",
    "    print (\"Error Connecting:\",errc)\n"
   ]
  },
  {
   "cell_type": "markdown",
   "metadata": {},
   "source": [
    "\n",
    "## Desafio:\n",
    "Apliquem as técnicas avançadas de web scraping em um projeto que requer a extração de dados de um site com conteúdo dinâmico, utilizando expressões regulares para refinar a extração de dados e implementando um robusto tratamento de exceções.\n",
    "\n",
    "\n",
    "Utilize as tecnicas avancadas de web scraping para extrair informacoes de um site que carrega seu conteudo dinamicamente com JavaScript. Tente extrair dados que nao estao imediatamente disponiveis no HTML da pagina inicial, mas que sao carregados posteriormente atraves de acoes do usuario ou requisicoes AJAX.\n"
   ]
  },
  {
   "cell_type": "markdown",
   "metadata": {},
   "source": [
    "# Uso de Expressoes Regulares com BeautifulSoup"
   ]
  },
  {
   "cell_type": "markdown",
   "metadata": {},
   "source": [
    "\n",
    "## Objetivo:\n",
    "Combinar o poder das expressoes regulares com a flexibilidade do BeautifulSoup para realizar web scraping de forma mais precisa e eficiente em paginas web complexas.\n"
   ]
  },
  {
   "cell_type": "markdown",
   "metadata": {},
   "source": [
    "## RegEx: Expressões regulares\n",
    "\n",
    "O que são expressões regulares e como elas podem ser usadas para identificar padrões específicos em textos."
   ]
  },
  {
   "cell_type": "markdown",
   "metadata": {},
   "source": [
    "#### Conceitos Básicos de Regex\n",
    "Alguns dos componentes básicos de uma expressão regular:\n",
    "\n",
    "- Caracteres literais: correspondem exatamente ao texto especificado (ex.: a, 1).\n",
    "\n",
    "- Metacaracteres: símbolos que têm significados especiais e ajudam a criar padrões. Por exemplo:\n",
    "\n",
    "    - . : corresponde a qualquer caractere único, exceto quebra de linha.\n",
    "    - ^ : indica o início de uma linha.\n",
    "    - $ : indica o fim de uma linha.\n",
    "    - \\* : zero ou mais ocorrências do elemento anterior.\n",
    "    - \\+ : uma ou mais ocorrências do elemento anterior.\n",
    "    - ? : zero ou uma ocorrência do elemento anterior.\n",
    "    - \\ : usado para escapar metacaracteres.\n",
    "  \n",
    "- Classes de caracteres: permitem especificar um conjunto de caracteres dos quais qualquer um pode corresponder.\n",
    "\n",
    "    - [abc]: corresponde a qualquer um dos caracteres a, b, ou c.\n",
    "    - [^abc]: corresponde a qualquer caractere que não seja a, b, ou c.\n",
    "    - [0-9]: corresponde a qualquer dígito entre 0 e 9.\n",
    "  \n",
    "- Grupos e intervalos:\n",
    "\n",
    "    - (abc): define um grupo; corresponde à sequência \"abc\" e permite capturar essa parte da string.\n",
    "    - {2}: especifica que o elemento anterior deve ocorrer exatamente duas vezes.\n",
    "    - {2,4}: especifica que o elemento anterior deve ocorrer de duas a quatro vezes."
   ]
  },
  {
   "cell_type": "code",
   "execution_count": null,
   "metadata": {},
   "outputs": [],
   "source": [
    "import re\n",
    "\n",
    "# Exemplo de padrão para encontrar e-mails\n",
    "padrao_email = r'\\b[A-Za-z0-9._%+-]+@[A-Za-z0-9.-]+\\.[A-Z|a-z]{2,}\\b'\n"
   ]
  },
  {
   "cell_type": "code",
   "execution_count": 1,
   "metadata": {},
   "outputs": [
    {
     "name": "stdout",
     "output_type": "stream",
     "text": [
      "['contato@exemplo.com', 'sales@exemplo.com.br']\n"
     ]
    }
   ],
   "source": [
    "import re\n",
    "\n",
    "texto = \"Para mais informações, envie um email para contato@exemplo.com ou sales@exemplo.com.br\"\n",
    "email_regex = r'[a-zA-Z0-9._%+-]+@[a-zA-Z0-9.-]+\\.[a-zA-Z]{2,}'\n",
    "\n",
    "emails = re.findall(email_regex, texto)\n",
    "print(emails)\n"
   ]
  },
  {
   "cell_type": "markdown",
   "metadata": {},
   "source": [
    "Exemplos básicos de expressões regulares comuns."
   ]
  },
  {
   "cell_type": "markdown",
   "metadata": {},
   "source": [
    "validação de email"
   ]
  },
  {
   "cell_type": "code",
   "execution_count": 40,
   "metadata": {},
   "outputs": [
    {
     "name": "stdout",
     "output_type": "stream",
     "text": [
      "E-mail válido!\n"
     ]
    }
   ],
   "source": [
    "import re\n",
    "\n",
    "email_regex = r'^[a-zA-Z0-9._%+-]+@[a-zA-Z0-9.-]+\\.[a-zA-Z]{2,}$'\n",
    "email = \"exemplo@dominio.com\"\n",
    "if re.match(email_regex, email):\n",
    "    print(\"E-mail válido!\")\n",
    "else:\n",
    "    print(\"E-mail inválido!\")\n"
   ]
  },
  {
   "cell_type": "markdown",
   "metadata": {},
   "source": [
    "Verificação de Números de Telefone\n",
    "\n",
    "Regex para verificar um número de telefone no formato internacional (+XX-XXXXXXXXX)"
   ]
  },
  {
   "cell_type": "code",
   "execution_count": 43,
   "metadata": {},
   "outputs": [
    {
     "name": "stdout",
     "output_type": "stream",
     "text": [
      "Número de telefone válido!\n"
     ]
    }
   ],
   "source": [
    "telefone_regex = r'^\\+\\d{2}-\\d{9}$'\n",
    "telefone = \"+55-123456789\"\n",
    "if re.match(telefone_regex, telefone):\n",
    "    print(\"Número de telefone válido!\")\n",
    "else:\n",
    "    print(\"Número de telefone inválido!\")\n"
   ]
  },
  {
   "cell_type": "markdown",
   "metadata": {},
   "source": [
    "Validação de URLs\n",
    "\n",
    "Regex para verificar se uma string é uma URL válida:"
   ]
  },
  {
   "cell_type": "code",
   "execution_count": 44,
   "metadata": {},
   "outputs": [
    {
     "name": "stdout",
     "output_type": "stream",
     "text": [
      "URL válida!\n"
     ]
    }
   ],
   "source": [
    "url_regex = r'^https?://[a-zA-Z0-9.-]+\\.[a-zA-Z]{2,}(?:/[a-zA-Z0-9%_./-~-]*)?$'\n",
    "url = \"https://www.exemplo.com/pagina\"\n",
    "if re.match(url_regex, url):\n",
    "    print(\"URL válida!\")\n",
    "else:\n",
    "    print(\"URL inválida!\")\n"
   ]
  },
  {
   "cell_type": "markdown",
   "metadata": {},
   "source": [
    "Verificação de Códigos Postais\n",
    "\n",
    "Regex para validar códigos postais (exemplo usando o formato brasileiro, 00000-000)"
   ]
  },
  {
   "cell_type": "code",
   "execution_count": 45,
   "metadata": {},
   "outputs": [
    {
     "name": "stdout",
     "output_type": "stream",
     "text": [
      "CEP válido!\n"
     ]
    }
   ],
   "source": [
    "cep_regex = r'^\\d{5}-\\d{3}$'\n",
    "cep = \"12345-678\"\n",
    "if re.match(cep_regex, cep):\n",
    "    print(\"CEP válido!\")\n",
    "else:\n",
    "    print(\"CEP inválido!\")\n"
   ]
  },
  {
   "cell_type": "markdown",
   "metadata": {},
   "source": [
    "Validação de Senhas\n",
    "\n",
    "Regex para verificar a força de uma senha, exigindo pelo menos 8 caracteres, incluindo números, letras maiúsculas e minúsculas, e símbolos:"
   ]
  },
  {
   "cell_type": "code",
   "execution_count": 46,
   "metadata": {},
   "outputs": [
    {
     "name": "stdout",
     "output_type": "stream",
     "text": [
      "Senha forte!\n"
     ]
    }
   ],
   "source": [
    "senha_regex = r'^(?=.*[a-z])(?=.*[A-Z])(?=.*\\d)(?=.*[@$!%*?&])[A-Za-z\\d@$!%*?&]{8,}$'\n",
    "senha = \"SenhaForte@123\"\n",
    "if re.match(senha_regex, senha):\n",
    "    print(\"Senha forte!\")\n",
    "else:\n",
    "    print(\"Senha fraca!\")\n"
   ]
  },
  {
   "cell_type": "markdown",
   "metadata": {},
   "source": [
    "Verificação de Datas\n",
    "\n",
    "Regex para verificar se uma data está no formato DD/MM/AAAA:"
   ]
  },
  {
   "cell_type": "code",
   "execution_count": null,
   "metadata": {},
   "outputs": [],
   "source": [
    "data_regex = r'^\\d{2}/\\d{2}/\\d{4}$'\n",
    "data = \"01/01/2024\"\n",
    "if re.match(data_regex, data):\n",
    "    print(\"Data válida!\")\n",
    "else:\n",
    "    print(\"Data inválida!\")\n"
   ]
  },
  {
   "cell_type": "markdown",
   "metadata": {},
   "source": [
    "### Exemplo de utilização"
   ]
  },
  {
   "cell_type": "code",
   "execution_count": 47,
   "metadata": {},
   "outputs": [
    {
     "name": "stdout",
     "output_type": "stream",
     "text": [
      "E-mails encontrados: ['atendimento.fies@infnet.edu.br', 'prouni.ctr@infnet.edu.br', 'atendimento.esti.negocios@infnet.edu.br', 'atendimento.pos.esti.negocios@infnet.edu.br', 'atendimento.controladoria@infnet.edu.br', 'ouvidoria@infnet.edu.br']\n"
     ]
    }
   ],
   "source": [
    "\n",
    "from bs4 import BeautifulSoup\n",
    "import requests\n",
    "import re\n",
    "\n",
    "url = 'https://www.infnet.edu.br/infnet/atendimento-ao-aluno/'\n",
    "resposta = requests.get(url)\n",
    "soup = BeautifulSoup(resposta.text, 'html.parser')\n",
    "\n",
    "# Usando expressoes regulares para encontrar todos os e-mails na pagina\n",
    "emails = re.findall(r'[a-zA-Z0-9._%+-]+@[a-zA-Z0-9.-]+\\.[a-zA-Z]{2,}', soup.text)\n",
    "print('E-mails encontrados:', emails)\n"
   ]
  },
  {
   "cell_type": "markdown",
   "metadata": {},
   "source": [
    "### Otimizando Expressões Regulares\n",
    "Expressões regulares são poderosas, mas podem ser complexas e lentas se não forem bem escritas. Algumas dicas para otimizar suas regex incluem:\n",
    "\n",
    "- Usar quantificadores não-gulosos (por exemplo, .*? em vez de .*), que param assim que encontram uma correspondência, reduzindo o tempo de processamento.\n",
    "- Evitar capturas desnecessárias e preferir grupos não-capturantes (?:...) quando não precisar dos dados capturados.\n",
    "- Utilizar classes de caracteres específicos quando possível, para limitar as correspondências possíveis."
   ]
  },
  {
   "cell_type": "code",
   "execution_count": 65,
   "metadata": {},
   "outputs": [],
   "source": [
    "from bs4 import BeautifulSoup\n",
    "import requests\n",
    "import re\n",
    "\n",
    "url = 'https://www.infnet.edu.br/infnet/atendimento-ao-aluno/'\n",
    "resposta = requests.get(url)\n",
    "soup = BeautifulSoup(resposta.text, 'html.parser')\n",
    "\n",
    "# Encontrar todos os links que contêm \"contato\" no href\n",
    "links_contato = soup.find_all('a', href=re.compile('contato'))\n",
    "for link in links_contato:\n",
    "    print(link.get('href'))\n"
   ]
  },
  {
   "cell_type": "markdown",
   "metadata": {},
   "source": [
    "## Métodos Regex"
   ]
  },
  {
   "cell_type": "markdown",
   "metadata": {},
   "source": [
    "Principais Métodos do Módulo re\n"
   ]
  },
  {
   "cell_type": "markdown",
   "metadata": {},
   "source": [
    "#### re.compile(pattern, flags=0):\n",
    "\n",
    "Compila uma expressão regular em um objeto de expressão regular, que pode ser usado para busca, substituição ou outras operações. \n",
    "\n",
    "A compilação de uma regex é útil quando a mesma expressão será utilizada várias vezes, pois isso pode melhorar a eficiência do código.\n",
    "\n",
    "Flags podem modificar o comportamento da expressão regular. \n",
    "\n",
    "Exemplos incluem <code>re.IGNORECASE, re.MULTILINE, re.DOTALL</code>, entre outros.\n"
   ]
  },
  {
   "cell_type": "markdown",
   "metadata": {},
   "source": [
    "#### re.search(pattern, string, flags=0):\n",
    "\n",
    "Procura pela primeira ocorrência do padrão dentro da string. Retorna um objeto de correspondência se a regex encontrar uma correspondência, caso contrário retorna None.\n"
   ]
  },
  {
   "cell_type": "code",
   "execution_count": 70,
   "metadata": {},
   "outputs": [
    {
     "data": {
      "text/plain": [
       "<re.Match object; span=(5, 6), match='n'>"
      ]
     },
     "execution_count": 70,
     "metadata": {},
     "output_type": "execute_result"
    }
   ],
   "source": [
    "match = re.search('n', 'Python') # busca pela letra 'n' em 'Python'.\n",
    "match\n"
   ]
  },
  {
   "cell_type": "markdown",
   "metadata": {},
   "source": [
    "#### re.match(pattern, string, flags=0):\n",
    "Semelhante ao search, mas limita a busca ao início da string. Se o padrão não aparece no início da string, retorna None.\n"
   ]
  },
  {
   "cell_type": "code",
   "execution_count": 72,
   "metadata": {},
   "outputs": [
    {
     "data": {
      "text/plain": [
       "<re.Match object; span=(0, 1), match='P'>"
      ]
     },
     "execution_count": 72,
     "metadata": {},
     "output_type": "execute_result"
    }
   ],
   "source": [
    "match = re.match('P', 'Python') # verifica se 'Python' começa com 'P'.\n",
    "match\n"
   ]
  },
  {
   "cell_type": "markdown",
   "metadata": {},
   "source": [
    "#### re.findall(pattern, string, flags=0):\n",
    "Encontra todas as ocorrências não sobrepostas do padrão na string e as retorna como uma lista de strings.\n"
   ]
  },
  {
   "cell_type": "code",
   "execution_count": 74,
   "metadata": {},
   "outputs": [
    {
     "data": {
      "text/plain": [
       "['n', 'n']"
      ]
     },
     "execution_count": 74,
     "metadata": {},
     "output_type": "execute_result"
    }
   ],
   "source": [
    "matches = re.findall('n', 'Banana') #– retorna ['n', 'n'].\n",
    "matches"
   ]
  },
  {
   "cell_type": "markdown",
   "metadata": {},
   "source": [
    "#### re.finditer(pattern, string, flags=0):\n",
    "\n",
    "Semelhante ao findall, mas retorna um iterador que produz objetos de correspondência em vez de uma lista.\n"
   ]
  },
  {
   "cell_type": "code",
   "execution_count": 81,
   "metadata": {},
   "outputs": [
    {
     "name": "stdout",
     "output_type": "stream",
     "text": [
      "<re.Match object; span=(2, 3), match='n'>\n",
      "<re.Match object; span=(4, 5), match='n'>\n"
     ]
    }
   ],
   "source": [
    "for match in re.finditer('n', 'Banana'): #itera sobre todas as correspondências de 'n'.\n",
    "    print(match)\n"
   ]
  },
  {
   "cell_type": "markdown",
   "metadata": {},
   "source": [
    "#### re.sub(pattern, repl, string, count=0, flags=0):\n",
    "Substitui as ocorrências do padrão na string pelo repl. Se count é maior que 0, apenas as primeiras count ocorrências são substituídas.\n"
   ]
  },
  {
   "cell_type": "code",
   "execution_count": 82,
   "metadata": {},
   "outputs": [
    {
     "data": {
      "text/plain": [
       "'céu verde'"
      ]
     },
     "execution_count": 82,
     "metadata": {},
     "output_type": "execute_result"
    }
   ],
   "source": [
    "re.sub('azul', 'verde', 'céu azul') # resulta em 'céu verde'.\n"
   ]
  },
  {
   "cell_type": "markdown",
   "metadata": {},
   "source": [
    "#### re.split(pattern, string, maxsplit=0, flags=0):\n",
    "\n",
    "Divide a string pelo ocorrências do padrão. Se maxsplit for maior que 0, divide no máximo maxsplit vezes.\n"
   ]
  },
  {
   "cell_type": "code",
   "execution_count": 83,
   "metadata": {},
   "outputs": [
    {
     "data": {
      "text/plain": [
       "['um', ' dois', ' três', ' quatro']"
      ]
     },
     "execution_count": 83,
     "metadata": {},
     "output_type": "execute_result"
    }
   ],
   "source": [
    "re.split(',', 'um, dois, três, quatro') # retorna ['um', 'dois', 'três', 'quatro']."
   ]
  },
  {
   "cell_type": "markdown",
   "metadata": {},
   "source": [
    "\n",
    "## Desafio:\n",
    "Escreva um script que utilize BeautifulSoup juntamente com expressoes regulares para extrair e imprimir todos os URLs de uma pagina que contenham a palavra \"produto\" no caminho.\n"
   ]
  },
  {
   "cell_type": "markdown",
   "metadata": {},
   "source": [
    "# Praticas Recomendadas para Web Scraping Responsavel"
   ]
  },
  {
   "cell_type": "markdown",
   "metadata": {},
   "source": [
    "\n",
    "## Objetivo:\n",
    "Como realizar web scraping de forma etica e responsável.\n"
   ]
  },
  {
   "cell_type": "markdown",
   "metadata": {},
   "source": [
    "## Respeitando o robots.txt\n",
    "O arquivo robots.txt é um padrão que os sites usam para informar aos bots quais partes do site podem ou não ser acessadas. \n",
    "- É importante de verificar e respeitar as diretrizes do robots.txt antes de iniciar o scraping.\n",
    "\n",
    "\n",
    "Como localizar e interpretar o arquivo robots.txt de um site."
   ]
  },
  {
   "cell_type": "markdown",
   "metadata": {},
   "source": [
    "### Gerenciamento de Sessões e Headers\n",
    "Usar as sessões com headers personalizados pode ajudar a evitar bloqueios por parte dos servidores ao identificar o scraper como um cliente legítimo."
   ]
  },
  {
   "cell_type": "code",
   "execution_count": null,
   "metadata": {},
   "outputs": [],
   "source": [
    "\n",
    "# Respeitando o robots.txt\n",
    "# e importante verificar o arquivo robots.txt de um site antes de iniciar o scraping\n",
    "# para garantir que suas acoes estao em conformidade com as diretrizes do site.\n",
    "# Exemplo: http://exemplo.com/robots.txt\n",
    "\n",
    "# Gerenciamento de Sessoes e Headers\n",
    "import requests\n",
    "\n",
    "url = 'http://exemplo.com'\n",
    "headers = {\n",
    "    'User-Agent': 'Meu Web Scraper 1.0',\n",
    "    'From': 'meuemail@exemplo.com'  # Isso e considerado uma boa pratica\n",
    "}\n",
    "\n",
    "resposta = requests.get(url, headers=headers)\n"
   ]
  },
  {
   "cell_type": "code",
   "execution_count": null,
   "metadata": {},
   "outputs": [],
   "source": [
    "import requests\n",
    "from bs4 import BeautifulSoup\n",
    "\n",
    "url = \"http://exemplo.com\"\n",
    "headers = {\n",
    "    'User-Agent': 'Meu Web Scraper',\n",
    "    'From': 'meuemail@exemplo.com'  # Isso é considerado uma boa prática\n",
    "}\n",
    "\n",
    "with requests.Session() as session:\n",
    "    session.headers.update(headers)\n",
    "    resposta = session.get(url)\n",
    "    soup = BeautifulSoup(resposta.content, 'html.parser')\n"
   ]
  },
  {
   "cell_type": "markdown",
   "metadata": {},
   "source": [
    "### Boas Práticas de Web Scraping\n",
    "Fazer pausas entre as requisições para não sobrecarregar os servidores dos sites. \n",
    "Limitar a frequência de requisições pode ajudar a evitar ser bloqueado e ser um bom cidadão da web."
   ]
  },
  {
   "cell_type": "code",
   "execution_count": null,
   "metadata": {},
   "outputs": [],
   "source": [
    "\n",
    "# Fazendo pausas entre as requisicoes\n",
    "import time\n",
    "\n",
    "# Esperar 1 segundo entre as requisicoes\n",
    "time.sleep(1)\n"
   ]
  },
  {
   "cell_type": "markdown",
   "metadata": {},
   "source": [
    "### Legalidade e Ética\n",
    "Além das técnicas, a ética e a legalidade do web scraping são cruciais. Analise os termos de serviço dos sites e a consideração sobre a natureza dos dados coletados, especialmente dados pessoais.\n",
    "\n",
    "Desafio da Aula\n",
    "Proposta: Encoraje os alunos a desenvolverem um script de web scraping que coleta informações de um diretório público de empresas, respeitando as regras de robots.txt, utilizando headers personalizados para as requisições e implementando pausas para simular um padrão de acesso humano."
   ]
  },
  {
   "attachments": {
    "image.png": {
     "image/png": "[encoded data removed]"
    }
   },
   "cell_type": "markdown",
   "metadata": {},
   "source": [
    "![image.png](attachment:image.png)"
   ]
  },
  {
   "cell_type": "markdown",
   "metadata": {},
   "source": [
    "\n",
    "## Desafio:\n",
    "Implemente um web scraper que siga as praticas recomendadas apresentadas nesta aula. Escolha um site que permita scraping (conforme indicado no seu arquivo robots.txt), colete informacoes especificas e armazene-as em um arquivo. Lembre-se de configurar o User-Agent, respeitar as regras de robots.txt e fazer pausas apropriadas entre as requisicoes.\n",
    "\n",
    "Desenvolva um script de web scraping que coleta informações de um diretório público de empresas, respeitando as regras de robots.txt, utilizando headers personalizados para as requisições e implementando pausas para simular um padrão de acesso humano."
   ]
  },
  {
   "cell_type": "markdown",
   "metadata": {},
   "source": [
    "## Lidando com Conteúdo Dinâmico\n",
    "\n",
    "Em sites que carregam conteúdo dinamicamente com JavaScript podemos utilizar ferramentas como __Selenium__ ou __Puppeteer__ (Ferramentas automatizadas de navegador) para interagir com esses sites.\n",
    "."
   ]
  },
  {
   "cell_type": "markdown",
   "metadata": {},
   "source": [
    "Sites modernos usam JavaScript para carregar conteúdo dinamicamente. Isso pode ser um desafio para o scraping, pois o requests e o BeautifulSoup não processam JavaScript. Se for esse o caso, você pode precisar de ferramentas como Selenium ou Pyppeteer, que podem controlar um navegador web e esperar pelo carregamento do JavaScript:"
   ]
  },
  {
   "cell_type": "code",
   "execution_count": null,
   "metadata": {},
   "outputs": [],
   "source": [
    "from selenium import webdriver\n",
    "\n",
    "driver = webdriver.Chrome()\n",
    "driver.get(url)\n",
    "\n",
    "# Esperar explicitamente ou implicitamente pelo carregamento de elementos\n",
    "content = driver.page_source\n"
   ]
  },
  {
   "cell_type": "markdown",
   "metadata": {},
   "source": [
    "## Desafios\n",
    "\n",
    "Escolher um site de interesse público que permita web scraping (respeitando o robots.txt) para coletar dados que possam ser analisados. Exemplos: dados sobre produtos em e-commerce, postagens em fóruns, informações meteorológicas, entre outros."
   ]
  },
  {
   "cell_type": "markdown",
   "metadata": {},
   "source": [
    "Utilizar técnicas de web scraping aprendidas para extrair os dados necessários de um site escolhido. Isso inclui o uso de requests ou selenium para acessar o site, BeautifulSoup ou lxml para parsear o HTML, e o uso opcional de expressões regulares para refinar a extração.\n",
    "Tarefa: Implementar scripts de web scraping que eficientemente colete os dados desejados, armazenando-os de forma estruturada (como em um DataFrame do Pandas ou em um arquivo JSON/CSV)."
   ]
  },
  {
   "cell_type": "markdown",
   "metadata": {},
   "source": [
    "Realize a limpeza e a preparação dos dados coletados, removendo duplicatas, tratando valores ausentes e convertendo tipos de dados conforme necessário.\n",
    "Tarefa: Utilizar Pandas para explorar os dados, realizar análises estatísticas básicas, identificar tendências ou padrões e extrair insights valiosos."
   ]
  },
  {
   "cell_type": "markdown",
   "metadata": {},
   "source": [
    "Apresentar os resultados da análise de dados de forma clara e informativa, utilizando gráficos e visualizações quando apropriado. O Pandas, juntamente com bibliotecas como Matplotlib ou Seaborn, pode ser utilizado para criar visualizações.\n",
    "Tarefa: Preparar uma apresentação ou relatório que resume as descobertas, incluindo a metodologia de coleta de dados, os desafios enfrentados, as análises realizadas e os insights obtidos."
   ]
  }
 ],
 "metadata": {
  "kernelspec": {
   "display_name": "Python 3",
   "language": "python",
   "name": "python3"
  },
  "language_info": {
   "codemirror_mode": {
    "name": "ipython",
    "version": 3
   },
   "file_extension": ".py",
   "mimetype": "text/x-python",
   "name": "python",
   "nbconvert_exporter": "python",
   "pygments_lexer": "ipython3",
   "version": "3.12.3"
  }
 },
 "nbformat": 4,
 "nbformat_minor": 2
}
