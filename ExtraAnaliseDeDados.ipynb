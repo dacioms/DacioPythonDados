{
 "cells": [
  {
   "cell_type": "markdown",
   "metadata": {},
   "source": [
    "- Análise de Dados com Pandas\n",
    "    - Análise Exploratória de Dados\n",
    "      - Métodos de resumo estatístico\n",
    "      - Visualização de dados com Matplotlib e Seaborn\n",
    "    - Manipulação Avançada de Dados\n",
    "      - Junção, combinação e remodelação de DataFrames\n",
    "      - Técnicas de slicing, loc e iloc\n",
    "      - Trabalhando com datas e séries temporais\n",
    "    - Casos de Uso Avançados\n",
    "      - Análise de séries temporais\n",
    "      - Dados de geolocalização\n",
    "      - Integração do Pandas com outras bibliotecas (Scikit-learn, SciPy)"
   ]
  },
  {
   "cell_type": "markdown",
   "metadata": {},
   "source": [
    "***A Análise Exploratória de Dados (EDA)*** \n",
    "\n",
    "É um passo crucial no processo de análise de dados, permitindo compreender melhor as características fundamentais dos dados através de resumos estatísticos e visualizações gráficas. \n",
    "\n",
    "Aplicando métodos de EDA usando Pandas e utilizando Matplotlib e Seaborn para visualização de dados."
   ]
  },
  {
   "cell_type": "markdown",
   "metadata": {},
   "source": [
    "## Métodos de Resumo Estatístico\n",
    "\n",
    "\n",
    "Descrevendo os dados: Utilize describe() para obter um resumo estatístico que inclui tendência central, dispersão e forma da distribuição dos dados numéricos.\n"
   ]
  },
  {
   "cell_type": "code",
   "execution_count": null,
   "metadata": {
    "metadata": {}
   },
   "outputs": [],
   "source": [
    "import pandas as pd\n",
    "df = pd.read_excel('dadosFictícios/Exemplo_Aula_10.xlsx')\n",
    "# Resumo estatístico das colunas numéricas\n",
    "df.describe()\n",
    "df"
   ]
  },
  {
   "cell_type": "markdown",
   "metadata": {},
   "source": [
    "Correlação entre variáveis: O método corr() é útil para encontrar a correlação entre colunas numéricas em um DataFrame. Correlações podem indicar a relação entre variáveis.\n"
   ]
  },
  {
   "cell_type": "code",
   "execution_count": null,
   "metadata": {
    "metadata": {}
   },
   "outputs": [],
   "source": [
    "# Calculando a correlação\n",
    "df.corr()"
   ]
  },
  {
   "cell_type": "markdown",
   "metadata": {},
   "source": [
    "Contagens únicas e valores modais: nunique() e mode() ajudam a identificar a diversidade de valores e os valores mais frequentes em colunas categóricas."
   ]
  },
  {
   "cell_type": "code",
   "execution_count": null,
   "metadata": {
    "metadata": {}
   },
   "outputs": [],
   "source": [
    "# Número de valores únicos por coluna\n",
    "print(df.nunique())\n",
    "\n",
    "# Valor mais comum em cada coluna\n",
    "df.mode()"
   ]
  },
  {
   "cell_type": "markdown",
   "metadata": {},
   "source": [
    "## Visualização de Dados com Matplotlib e Seaborn\n",
    "\n",
    "\n",
    "Visualizações são uma parte integral da EDA, fornecendo insights rápidos que podem não ser óbvios apenas por resumos numéricos."
   ]
  },
  {
   "cell_type": "markdown",
   "metadata": {
    "metadata": {}
   },
   "source": [
    "Histogramas: Úteis para visualizar a distribuição de dados numéricos."
   ]
  },
  {
   "cell_type": "code",
   "execution_count": null,
   "metadata": {
    "metadata": {}
   },
   "outputs": [],
   "source": [
    "import matplotlib.pyplot as plt\n",
    "\n",
    "df['Preço'].hist(bins=15)\n",
    "plt.show()"
   ]
  },
  {
   "cell_type": "markdown",
   "metadata": {},
   "source": [
    "Gráficos de dispersão: Bom para identificar relações entre variáveis.\n"
   ]
  },
  {
   "cell_type": "code",
   "execution_count": null,
   "metadata": {},
   "outputs": [],
   "source": [
    "plt.scatter(df['coluna_x'], df['coluna_y'])\n",
    "plt.show()\n"
   ]
  },
  {
   "cell_type": "markdown",
   "metadata": {},
   "source": [
    "Boxplots: Oferecem uma boa visualização da distribuição de dados, destacando outliers.\n"
   ]
  },
  {
   "cell_type": "code",
   "execution_count": null,
   "metadata": {
    "metadata": {}
   },
   "outputs": [],
   "source": [
    "import seaborn as sns\n",
    "\n",
    "sns.boxplot(x='categoria', y='valor', data=df)\n",
    "plt.show()"
   ]
  },
  {
   "cell_type": "markdown",
   "metadata": {},
   "source": [
    "## Exemplo Prático\n",
    "\n",
    "Suponha que temos um DataFrame df_vendas com dados sobre vendas de produtos, incluindo as colunas categoria, valor_venda e quantidade. Vamos realizar uma EDA básica nesses dados."
   ]
  },
  {
   "cell_type": "code",
   "execution_count": null,
   "metadata": {},
   "outputs": [],
   "source": [
    "# Resumo estatístico\n",
    "print(df_vendas.describe())\n",
    "\n",
    "# Correlação entre 'valor_venda' e 'quantidade'\n",
    "print(df_vendas[['valor_venda', 'quantidade']].corr())\n",
    "\n",
    "# Visualização da distribuição de 'valor_venda'\n",
    "plt.figure(figsize=(8, 4))\n",
    "sns.histplot(df_vendas['valor_venda'], bins=30, kde=True)\n",
    "plt.title('Distribuição do Valor de Venda')\n",
    "plt.show()\n",
    "\n",
    "# Boxplot de 'valor_venda' por 'categoria'\n",
    "plt.figure(figsize=(8, 4))\n",
    "sns.boxplot(x='categoria', y='valor_venda', data=df_vendas)\n",
    "plt.title('Valor de Venda por Categoria')\n",
    "plt.show()\n"
   ]
  },
  {
   "cell_type": "markdown",
   "metadata": {},
   "source": [
    "# Manipulação Avançada de Dados\n",
    "\n",
    "Após uma compreensão inicial dos dados por meio da análise exploratória, o próximo passo é aprofundar-se na manipulação avançada de dados. \n",
    "\n",
    "Essa etapa permite preparar os dados para análises mais complexas, incluindo a modelagem de dados. \n",
    "\n",
    "Vamos explorar técnicas avançadas de manipulação usando Pandas, abrangendo junção, combinação, remodelação de DataFrames, e trabalhando com datas e séries temporais.\n"
   ]
  },
  {
   "cell_type": "markdown",
   "metadata": {},
   "source": [
    "\n",
    "### Junção, Combinação e Remodelação de DataFrames\n",
    "  - Junção de DataFrames: Utilize merge() para combinar DataFrames baseando-se em colunas-chave, similar a junções SQL.\n"
   ]
  },
  {
   "cell_type": "code",
   "execution_count": null,
   "metadata": {},
   "outputs": [],
   "source": [
    "# Junção de dois DataFrames\n",
    "df_juncao = pd.merge(df1, df2, on='coluna_chave')\n"
   ]
  },
  {
   "cell_type": "markdown",
   "metadata": {},
   "source": [
    "Concatenação de DataFrames: concat() é usado para concatenar DataFrames verticalmente ou horizontalmente.\n"
   ]
  },
  {
   "cell_type": "code",
   "execution_count": null,
   "metadata": {},
   "outputs": [],
   "source": [
    "# Concatenação vertical\n",
    "df_concat_vert = pd.concat([df1, df2])\n",
    "\n",
    "# Concatenação horizontal\n",
    "df_concat_horiz = pd.concat([df1, df2], axis=1)\n"
   ]
  },
  {
   "cell_type": "markdown",
   "metadata": {},
   "source": [
    "Pivotamento e Mesclagem de Dados: pivot() e melt() permitem remodelar DataFrames, facilitando a análise.\n"
   ]
  },
  {
   "cell_type": "code",
   "execution_count": null,
   "metadata": {},
   "outputs": [],
   "source": [
    "# Pivotando\n",
    "df_pivotado = df.pivot(index='data', columns='categoria', values='valor')\n",
    "\n",
    "# Mesclagem (unpivot)\n",
    "df_mesclado = df.melt(id_vars=['data'], value_vars=['categoria'])\n"
   ]
  },
  {
   "cell_type": "markdown",
   "metadata": {},
   "source": [
    "## Trabalhando com Datas e Séries Temporais\n",
    "\n",
    "Pandas oferece poderosas funcionalidades para manipulação de datas e séries temporais, tornando mais fácil trabalhar com dados temporais.\n",
    "\n",
    "Conversão de strings para datetime: Use to_datetime() para converter colunas de data em formato string para datetime, facilitando operações subsequentes.\n"
   ]
  },
  {
   "cell_type": "code",
   "execution_count": null,
   "metadata": {},
   "outputs": [],
   "source": [
    "df['data'] = pd.to_datetime(df['data'])\n"
   ]
  },
  {
   "cell_type": "markdown",
   "metadata": {},
   "source": [
    "Selecionando e filtrando datas: Após a conversão, é fácil selecionar períodos específicos ou filtrar baseado em datas.\n"
   ]
  },
  {
   "cell_type": "code",
   "execution_count": null,
   "metadata": {},
   "outputs": [],
   "source": [
    "# Selecionando um período específico\n",
    "df_periodo = df.set_index('data')['2020-01-01':'2020-12-31']\n",
    "\n",
    "# Filtrando um intervalo específico\n",
    "df_filtrado = df[(df['data'] >= '2020-01-01') & (df['data'] <= '2020-12-31')]\n"
   ]
  },
  {
   "cell_type": "markdown",
   "metadata": {},
   "source": [
    "Agregação e resample de séries temporais: resample() é útil para mudar a frequência dos dados temporais, permitindo agregação.\n"
   ]
  },
  {
   "cell_type": "code",
   "execution_count": null,
   "metadata": {},
   "outputs": [],
   "source": [
    "# Agregando dados mensais a partir de dados diários\n",
    "df_mensal = df.set_index('data').resample('M').sum()\n"
   ]
  },
  {
   "cell_type": "markdown",
   "metadata": {},
   "source": [
    "## Exemplo Prático\n",
    "Imagine um DataFrame df_vendas com as colunas data, produto, categoria, e valor_venda, e um DataFrame df_estoque com produto, estoque_inicial, e estoque_final. Vamos realizar algumas operações de manipulação avançada nestes DataFrames.\n"
   ]
  },
  {
   "cell_type": "code",
   "execution_count": null,
   "metadata": {},
   "outputs": [],
   "source": [
    "import pandas as pd\n",
    "\n",
    "# Convertendo a coluna 'data' para datetime\n",
    "df_vendas['data'] = pd.to_datetime(df_vendas['data'])\n",
    "\n",
    "# Junção dos DataFrames baseado em 'produto'\n",
    "df_completo = pd.merge(df_vendas, df_estoque, on='produto')\n",
    "\n",
    "# Agregando vendas mensais\n",
    "df_vendas_mensais = df_completo.set_index('data').resample('M').agg({'valor_venda': 'sum', 'estoque_final': 'mean'})\n",
    "\n",
    "# Exibindo o resultado\n",
    "print(df_vendas_mensais.head())\n"
   ]
  },
  {
   "cell_type": "markdown",
   "metadata": {},
   "source": [
    "Este exemplo ilustra como preparar e manipular dados para análises mais detalhadas, utilizando técnicas de junção, agregação temporal, e conversão de tipos de dados.\n"
   ]
  },
  {
   "cell_type": "markdown",
   "metadata": {},
   "source": [
    "\n",
    "# Casos de Uso Avançados\n",
    "\n",
    "Explorando casos de uso avançados que demonstram o poder do Pandas em análises de dados complexas, incluindo análise de séries temporais, dados de geolocalização e integração do Pandas com outras bibliotecas para enriquecer suas capacidades de análise.\n",
    "\n",
    "## Análise de Séries Temporais\n",
    "\n",
    "O Pandas oferece funcionalidades robustas para análise de séries temporais, permitindo trabalhar com facilidade em dados cronológicos para análises mais profundas, como tendências, sazonalidade e padrões de tempo.\n",
    "\n",
    "- Decomposição de séries temporais: Explorar componentes de tendência e sazonalidade.\n",
    "\n",
    "- Janelas móveis: Aplicar funções estatísticas e outras operações em janelas de tempo para suavização ou cálculo de médias móveis.\n"
   ]
  },
  {
   "cell_type": "code",
   "execution_count": null,
   "metadata": {},
   "outputs": [],
   "source": [
    "# Calculando média móvel de 7 dias para 'valor_venda'\n",
    "df_vendas['valor_venda'].rolling(window=7).mean().plot()\n"
   ]
  },
  {
   "cell_type": "markdown",
   "metadata": {},
   "source": [
    "## Dados de Geolocalização\n",
    "\n",
    "Com Pandas, é possível manipular dados de geolocalização para análises geográficas, que podem ser úteis em vários domínios, como logística, planejamento urbano e marketing.\n",
    "\n",
    "### Manipulação de coordenadas geográficas: \n",
    "Analisar dados baseados em localização.\n",
    "\n",
    "- Integração com bibliotecas de geoprocessamento: Como Geopandas para visualização e análise espacial.\n",
    "\n",
    "\n",
    "- Integração do Pandas com Outras Bibliotecas\n",
    "    - O Pandas pode ser integrado com uma série de outras bibliotecas para análises mais específicas ou avançadas, incluindo:\n",
    "\n",
    "- Scikit-learn para Machine Learning: Preparação de dados antes da aplicação de modelos de machine learning.\n"
   ]
  },
  {
   "cell_type": "code",
   "execution_count": null,
   "metadata": {},
   "outputs": [],
   "source": [
    "from sklearn.model_selection import train_test_split\n",
    "\n",
    "# Preparando dados para modelagem\n",
    "X = df.drop('coluna_alvo', axis=1)\n",
    "y = df['coluna_alvo']\n",
    "\n",
    "X_train, X_test, y_train, y_test = train_test_split(X, y, test_size=0.2, random_state=42)\n"
   ]
  },
  {
   "cell_type": "markdown",
   "metadata": {},
   "source": [
    "## SciPy para análises estatísticas: \n",
    "\n",
    "Realizar testes estatísticos ou operações matemáticas complexas.\n",
    "\n",
    "\n",
    "- Matplotlib e Seaborn para visualizações avançadas: Criar gráficos complexos e visualizações de dados personalizadas.\n"
   ]
  },
  {
   "cell_type": "markdown",
   "metadata": {},
   "source": [
    "## Exemplo Prático\n",
    "\n",
    "Vamos considerar um caso onde você possui um DataFrame df_vendas com informações de vendas diárias, incluindo a data e o valor de vendas, e você deseja analisar tendências e padrões sazonais.\n"
   ]
  },
  {
   "cell_type": "code",
   "execution_count": null,
   "metadata": {},
   "outputs": [],
   "source": [
    "import pandas as pd\n",
    "\n",
    "# Simulação do DataFrame 'df_vendas'\n",
    "# Aqui, você substituiria por seu próprio carregamento de dados\n",
    "\n",
    "# Decomposição de séries temporais (usando statsmodels, por exemplo)\n",
    "from statsmodels.tsa.seasonal import seasonal_decompose\n",
    "\n",
    "# Definindo o índice como data para análise de séries temporais\n",
    "df_vendas.set_index('data', inplace=True)\n",
    "\n",
    "# Decompondo a série temporal\n",
    "resultado = seasonal_decompose(df_vendas['valor_venda'], model='additive')\n",
    "\n",
    "# Visualizando componentes\n",
    "resultado.plot().set_size_inches(10, 12)\n"
   ]
  },
  {
   "cell_type": "markdown",
   "metadata": {},
   "source": [
    "Este exemplo mostra como você pode começar a trabalhar com análises de séries temporais no Pandas, preparando o caminho para explorações mais profundas e sofisticadas de padrões nos dados."
   ]
  }
 ],
 "metadata": {
  "kernelspec": {
   "display_name": "Python 3",
   "language": "python",
   "name": "python3"
  },
  "language_info": {
   "codemirror_mode": {
    "name": "ipython",
    "version": 3
   },
   "file_extension": ".py",
   "mimetype": "text/x-python",
   "name": "python",
   "nbconvert_exporter": "python",
   "pygments_lexer": "ipython3",
   "version": "3.12.3"
  }
 },
 "nbformat": 4,
 "nbformat_minor": 2
}
