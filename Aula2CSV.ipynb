{
 "cells": [
  {
   "cell_type": "markdown",
   "metadata": {},
   "source": [
    "# Módulo CSV"
   ]
  },
  {
   "cell_type": "markdown",
   "metadata": {},
   "source": [
    "\n",
    "## Objetivo:\n",
    "Ler e escrever arquivos CSV em Python, utilizando o modulo `csv`, e introduzir tecnicas avancadas para manipulacao desses arquivos.\n"
   ]
  },
  {
   "cell_type": "markdown",
   "metadata": {},
   "source": [
    "- Leitura de CSV"
   ]
  },
  {
   "cell_type": "code",
   "execution_count": 3,
   "metadata": {},
   "outputs": [
    {
     "name": "stdout",
     "output_type": "stream",
     "text": [
      "\n",
      "Nome,Idade\n",
      "\n",
      "Alice,30\n",
      "\n",
      "Bob,25\n"
     ]
    }
   ],
   "source": [
    "import csv\n",
    "\n",
    "# Exemplo: Leitura de um arquivo CSV\n",
    "with open('dados/exemplo.csv', 'r') as arquivo_csv:\n",
    "    leitor = csv.reader(arquivo_csv, delimiter='@')\n",
    "    \n",
    "    for linha in leitor:\n",
    "        # print(linha)\n",
    "        print(\"\")\n",
    "\n",
    "        for item in linha:\n",
    "            print(item)"
   ]
  },
  {
   "cell_type": "markdown",
   "metadata": {},
   "source": [
    "### Atenção à importância do parâmetro delimiter, especialmente em arquivos que podem usar delimitadores diferentes da vírgula."
   ]
  },
  {
   "cell_type": "markdown",
   "metadata": {},
   "source": [
    "- Escrita de CSV\n",
    "\n",
    "  - Função csv.writer para escrever dados em um arquivo CSV, incluindo a criação de cabeçalhos e linhas de dados.\n",
    "  -  'writerows' pode ser usado para escrever múltiplas linhas de uma vez."
   ]
  },
  {
   "cell_type": "code",
   "execution_count": 4,
   "metadata": {},
   "outputs": [],
   "source": [
    "import csv\n",
    "\n",
    "# Exemplo: Escrita em um arquivo CSV\n",
    "dados = [['Nome', 'Idade'], ['Alice', 30], ['Bob', 25]]\n",
    "\n",
    "with open('dados/saida.csv', 'w', newline='') as arquivo_csv:\n",
    "    escritor = csv.writer(arquivo_csv, delimiter='\\t')\n",
    "    escritor.writerows(dados)\n"
   ]
  },
  {
   "cell_type": "code",
   "execution_count": 8,
   "metadata": {},
   "outputs": [
    {
     "name": "stdout",
     "output_type": "stream",
     "text": [
      "['nome', 'cidade', 'idade']\n",
      "['Alice', 'Recife', '28']\n",
      "['nome', 'cidade', 'idade']\n",
      "['Alice', 'Recife', '28']\n",
      "['nome', 'cidade', 'idade']\n",
      "['Alice', 'Recife', '28']\n",
      "['nome', 'cidade', 'idade']\n",
      "['Alice', 'Recife', '28']\n"
     ]
    }
   ],
   "source": [
    "import csv\n",
    "\n",
    "# Escrevendo em um arquivo CSV\n",
    "with open('dados/exemplinho.csv', 'a', newline='') as f:\n",
    "    writer = csv.writer(f)\n",
    "    writer.writerow(['nome', 'cidade', 'idade'])\n",
    "    writer.writerow(['Alice', 'Recife', 28])\n",
    "\n",
    "# Lendo um arquivo CSV\n",
    "with open('dados/exemplinho.csv', 'r') as f:\n",
    "    reader = csv.reader(f)\n",
    "    for row in reader:\n",
    "        print(row)\n"
   ]
  },
  {
   "cell_type": "markdown",
   "metadata": {},
   "source": [
    "Leitura e escrita de arquivos CSV utilizando dicionários com <code>csv.DictReader e csv.DictWriter</code>, permitindo um acesso mais intuitivo aos dados por meio dos cabeçalhos das colunas."
   ]
  },
  {
   "cell_type": "code",
   "execution_count": 10,
   "metadata": {},
   "outputs": [
    {
     "name": "stdout",
     "output_type": "stream",
     "text": [
      "Eduardo 37\n",
      "Ana 32\n",
      "Daniela 57\n",
      "Daniela 50\n",
      "Daniela 19\n",
      "Bruno 27\n",
      "Daniela 50\n",
      "Carlos 49\n",
      "Eduardo 28\n",
      "Ana 41\n",
      "Ana 53\n",
      "Eduardo 29\n",
      "Carlos 46\n",
      "Bruno 52\n",
      "Ana 18\n",
      "Bruno 18\n",
      "Bruno 54\n",
      "Ana 23\n",
      "Bruno 56\n",
      "Eduardo 58\n",
      "Daniela 35\n",
      "Ana 33\n",
      "Daniela 22\n",
      "Ana 59\n",
      "Carlos 49\n",
      "Daniela 19\n",
      "Ana 19\n",
      "Bruno 57\n",
      "Daniela 59\n",
      "Daniela 53\n"
     ]
    }
   ],
   "source": [
    "with open('dadosFictícios/Exemplo_Aula_6.csv', mode='r') as infile:\n",
    "    reader = csv.DictReader(infile)\n",
    "    for row in reader:\n",
    "        # print(row)\n",
    "        print(row['Nome'], row['Idade'])\n",
    "\n",
    "with open('dados/saida.csv', mode='w', newline='') as outfile:\n",
    "    fieldnames = ['Nome', 'Idade']\n",
    "    writer = csv.DictWriter(outfile, fieldnames=fieldnames)\n",
    "    writer.writeheader()\n",
    "    writer.writerow({'Idade': 22, 'Nome': 'Carfkmyflos'})\n"
   ]
  },
  {
   "cell_type": "markdown",
   "metadata": {},
   "source": [
    "# ==> Ir para JSON"
   ]
  },
  {
   "cell_type": "markdown",
   "metadata": {},
   "source": [
    "### Dialeto: \n",
    "Permite especificar um conjunto de parâmetros específicos para um formato de CSV particular."
   ]
  },
  {
   "cell_type": "code",
   "execution_count": null,
   "metadata": {},
   "outputs": [],
   "source": [
    "import csv\n",
    "\n",
    "csv.register_dialect('hash_dialect', delimiter='#', quoting=csv.QUOTE_MINIMAL)\n",
    "\n",
    "with open('dados/custom.csv', mode='w', newline='') as file:\n",
    "    writer = csv.writer(file, dialect='hash_dialect')\n",
    "    writer.writerow(['id', 'name'])\n",
    "    writer.writerow([1, 'Alice'])\n"
   ]
  },
  {
   "cell_type": "markdown",
   "metadata": {},
   "source": [
    "\n",
    "## Desafio:\n",
    "Dado um arquivo CSV com dados de vendas de produtos (Produto, Quantidade Vendida), escreva um script que le o arquivo, calcula o total de vendas para cada produto e salva os resultados em um novo arquivo CSV.\n"
   ]
  }
 ],
 "metadata": {
  "kernelspec": {
   "display_name": "Python 3",
   "language": "python",
   "name": "python3"
  },
  "language_info": {
   "codemirror_mode": {
    "name": "ipython",
    "version": 3
   },
   "file_extension": ".py",
   "mimetype": "text/x-python",
   "name": "python",
   "nbconvert_exporter": "python",
   "pygments_lexer": "ipython3",
   "version": "3.12.1"
  }
 },
 "nbformat": 4,
 "nbformat_minor": 2
}
