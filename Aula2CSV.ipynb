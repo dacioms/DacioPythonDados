{
 "cells": [
  {
   "cell_type": "markdown",
   "metadata": {},
   "source": [
    "# Módulo CSV"
   ]
  },
  {
   "cell_type": "markdown",
   "metadata": {},
   "source": [
    "\n",
    "## Objetivo:\n",
    "Ler e escrever arquivos CSV em Python, utilizando o modulo `csv`, e introduzir tecnicas avancadas para manipulacao desses arquivos.\n"
   ]
  },
  {
   "cell_type": "markdown",
   "metadata": {},
   "source": [
    "- Leitura de CSV"
   ]
  },
  {
   "cell_type": "code",
   "execution_count": 4,
   "metadata": {},
   "outputs": [
    {
     "name": "stdout",
     "output_type": "stream",
     "text": [
      "<_csv.reader object at 0x0000021C7D7A77C0>\n",
      "['Produto', 'Preço', 'Quantidade', 'Data']\n",
      "['Mesa', '235.76', '18', '2023-01-01']\n",
      "['Mesa', '295.82', '7', '2023-01-02']\n",
      "['Mesa', '235.59', '8', '2023-01-03']\n",
      "['Sofá', '171.8', '19', '2023-01-04']\n",
      "['Sofá', '168.39', '12', '2023-01-05']\n",
      "['Cadeira', '285.38', '18', '2023-01-06']\n",
      "['Cadeira', '449.83', '10', '2023-01-07']\n",
      "['Mesa', '477.65', '15', '2023-01-08']\n",
      "['Mesa', '343.3', '10', '2023-01-09']\n",
      "['Sofá', '338.66', '19', '2023-01-10']\n",
      "['Cadeira', '413.46', '1', '2023-01-11']\n",
      "['Cadeira', '300.01', '10', '2023-01-12']\n",
      "['Sofá', '120.15', '12', '2023-01-13']\n",
      "['Mesa', '379.64', '18', '2023-01-14']\n",
      "['Cadeira', '496.96', '10', '2023-01-15']\n",
      "['Cadeira', '206.91', '1', '2023-01-16']\n",
      "['Cadeira', '371.64', '17', '2023-01-17']\n",
      "['Cadeira', '445.71', '11', '2023-01-18']\n",
      "['Cadeira', '400.34', '5', '2023-01-19']\n",
      "['Sofá', '485.8', '4', '2023-01-20']\n",
      "['Sofá', '321.7', '9', '2023-01-21']\n",
      "['Sofá', '184.96', '15', '2023-01-22']\n",
      "['Mesa', '188.98', '1', '2023-01-23']\n",
      "['Cadeira', '187.5', '9', '2023-01-24']\n",
      "['Sofá', '327.83', '8', '2023-01-25']\n",
      "['Cadeira', '280.84', '14', '2023-01-26']\n",
      "['Cadeira', '488.09', '18', '2023-01-27']\n",
      "['Cadeira', '372.22', '1', '2023-01-28']\n",
      "['Cadeira', '134.12', '12', '2023-01-29']\n",
      "['Mesa', '122.57', '5', '2023-01-30']\n"
     ]
    }
   ],
   "source": [
    "import csv\n",
    "\n",
    "# Exemplo: Leitura de um arquivo CSV\n",
    "with open('dadosFictícios/Exemplo_Aula_8.csv', 'r', encoding ='utf-8') as arquivo_csv:\n",
    "    leitor = csv.reader(arquivo_csv, delimiter=',')\n",
    "    print(leitor)\n",
    "    for linha in leitor:\n",
    "        print(linha)\n"
   ]
  },
  {
   "cell_type": "markdown",
   "metadata": {},
   "source": [
    "### Atenção à importância do parâmetro delimiter, especialmente em arquivos que podem usar delimitadores diferentes da vírgula."
   ]
  },
  {
   "cell_type": "markdown",
   "metadata": {},
   "source": [
    "- Escrita de CSV\n",
    "\n",
    "  - Função csv.writer para escrever dados em um arquivo CSV, incluindo a criação de cabeçalhos e linhas de dados.\n",
    "  -  'writerows' pode ser usado para escrever múltiplas linhas de uma vez."
   ]
  },
  {
   "cell_type": "code",
   "execution_count": 2,
   "metadata": {},
   "outputs": [],
   "source": [
    "import csv\n",
    "\n",
    "# Exemplo: Escrita em um arquivo CSV\n",
    "dados = [['Nome', 'Idade'], ['Alice', 30], ['Bob', 25]]\n",
    "\n",
    "with open('dados/saida.csv', 'w', newline='') as arquivo_csv:\n",
    "    escritor = csv.writer(arquivo_csv, delimiter='\\t')\n",
    "    escritor.writerows(dados)\n"
   ]
  },
  {
   "cell_type": "code",
   "execution_count": 6,
   "metadata": {},
   "outputs": [
    {
     "name": "stdout",
     "output_type": "stream",
     "text": [
      "['nome', 'cidade', 'idade']\n",
      "['Alice', 'Recife', '28']\n"
     ]
    }
   ],
   "source": [
    "import csv\n",
    "\n",
    "# Escrevendo em um arquivo CSV\n",
    "with open('dados/exemplinho.csv', 'w', newline='') as f:\n",
    "    writer = csv.writer(f)\n",
    "    writer.writerow(['nome', 'cidade', 'idade'])\n",
    "    writer.writerow(['Alice', 'Recife', 28])\n",
    "\n",
    "# Lendo um arquivo CSV\n",
    "with open('dados/exemplinho.csv', 'r') as f:\n",
    "    reader = csv.reader(f)\n",
    "    for row in reader:\n",
    "        print(row)\n"
   ]
  },
  {
   "cell_type": "markdown",
   "metadata": {},
   "source": [
    "Leitura e escrita de arquivos CSV utilizando dicionários com <code>csv.DictReader e csv.DictWriter</code>, permitindo um acesso mais intuitivo aos dados por meio dos cabeçalhos das colunas."
   ]
  },
  {
   "cell_type": "code",
   "execution_count": 8,
   "metadata": {},
   "outputs": [
    {
     "name": "stdout",
     "output_type": "stream",
     "text": [
      "{'Nome': 'Eduardo', 'Idade': '37', 'SalÃ¡rio': '5942'}\n",
      "Eduardo 37\n",
      "{'Nome': 'Ana', 'Idade': '32', 'SalÃ¡rio': '5191'}\n",
      "Ana 32\n",
      "{'Nome': 'Daniela', 'Idade': '57', 'SalÃ¡rio': '2430'}\n",
      "Daniela 57\n",
      "{'Nome': 'Daniela', 'Idade': '50', 'SalÃ¡rio': '6187'}\n",
      "Daniela 50\n",
      "{'Nome': 'Daniela', 'Idade': '19', 'SalÃ¡rio': '4446'}\n",
      "Daniela 19\n",
      "{'Nome': 'Bruno', 'Idade': '27', 'SalÃ¡rio': '4659'}\n",
      "Bruno 27\n",
      "{'Nome': 'Daniela', 'Idade': '50', 'SalÃ¡rio': '3589'}\n",
      "Daniela 50\n",
      "{'Nome': 'Carlos', 'Idade': '49', 'SalÃ¡rio': '4956'}\n",
      "Carlos 49\n",
      "{'Nome': 'Eduardo', 'Idade': '28', 'SalÃ¡rio': '4681'}\n",
      "Eduardo 28\n",
      "{'Nome': 'Ana', 'Idade': '41', 'SalÃ¡rio': '6180'}\n",
      "Ana 41\n",
      "{'Nome': 'Ana', 'Idade': '53', 'SalÃ¡rio': '4251'}\n",
      "Ana 53\n",
      "{'Nome': 'Eduardo', 'Idade': '29', 'SalÃ¡rio': '6420'}\n",
      "Eduardo 29\n",
      "{'Nome': 'Carlos', 'Idade': '46', 'SalÃ¡rio': '6870'}\n",
      "Carlos 46\n",
      "{'Nome': 'Bruno', 'Idade': '52', 'SalÃ¡rio': '3071'}\n",
      "Bruno 52\n",
      "{'Nome': 'Ana', 'Idade': '18', 'SalÃ¡rio': '6735'}\n",
      "Ana 18\n",
      "{'Nome': 'Bruno', 'Idade': '18', 'SalÃ¡rio': '7251'}\n",
      "Bruno 18\n",
      "{'Nome': 'Bruno', 'Idade': '54', 'SalÃ¡rio': '7068'}\n",
      "Bruno 54\n",
      "{'Nome': 'Ana', 'Idade': '23', 'SalÃ¡rio': '3204'}\n",
      "Ana 23\n",
      "{'Nome': 'Bruno', 'Idade': '56', 'SalÃ¡rio': '5918'}\n",
      "Bruno 56\n",
      "{'Nome': 'Eduardo', 'Idade': '58', 'SalÃ¡rio': '3167'}\n",
      "Eduardo 58\n",
      "{'Nome': 'Daniela', 'Idade': '35', 'SalÃ¡rio': '3684'}\n",
      "Daniela 35\n",
      "{'Nome': 'Ana', 'Idade': '33', 'SalÃ¡rio': '5299'}\n",
      "Ana 33\n",
      "{'Nome': 'Daniela', 'Idade': '22', 'SalÃ¡rio': '4767'}\n",
      "Daniela 22\n",
      "{'Nome': 'Ana', 'Idade': '59', 'SalÃ¡rio': '4957'}\n",
      "Ana 59\n",
      "{'Nome': 'Carlos', 'Idade': '49', 'SalÃ¡rio': '6469'}\n",
      "Carlos 49\n",
      "{'Nome': 'Daniela', 'Idade': '19', 'SalÃ¡rio': '7973'}\n",
      "Daniela 19\n",
      "{'Nome': 'Ana', 'Idade': '19', 'SalÃ¡rio': '2560'}\n",
      "Ana 19\n",
      "{'Nome': 'Bruno', 'Idade': '57', 'SalÃ¡rio': '7425'}\n",
      "Bruno 57\n",
      "{'Nome': 'Daniela', 'Idade': '59', 'SalÃ¡rio': '3605'}\n",
      "Daniela 59\n",
      "{'Nome': 'Daniela', 'Idade': '53', 'SalÃ¡rio': '7795'}\n",
      "Daniela 53\n"
     ]
    }
   ],
   "source": [
    "with open('dadosFictícios/Exemplo_Aula_6.csv', mode='r') as infile:\n",
    "    reader = csv.DictReader(infile)\n",
    "    for row in reader:\n",
    "        print(row)\n",
    "        print(row['Nome'], row['Idade'])\n"
   ]
  },
  {
   "cell_type": "code",
   "execution_count": 5,
   "metadata": {},
   "outputs": [],
   "source": [
    "\n",
    "with open('dados/saida.csv', mode='w', newline='') as outfile:\n",
    "    fieldnames = ['Nome', 'Idade', 'curso']\n",
    "    writer = csv.DictWriter(outfile, fieldnames=['Nome', 'Idade', 'curso'])\n",
    "    writer.writeheader()\n",
    "    writer.writerow({'Idade': True, 'Nome': 'Carlos','curso' : \"física\"})\n"
   ]
  },
  {
   "cell_type": "markdown",
   "metadata": {},
   "source": [
    "# ==> Ir para JSON"
   ]
  },
  {
   "cell_type": "markdown",
   "metadata": {},
   "source": [
    "### Dialeto: \n",
    "Permite especificar um conjunto de parâmetros específicos para um formato de CSV particular."
   ]
  },
  {
   "cell_type": "code",
   "execution_count": null,
   "metadata": {},
   "outputs": [],
   "source": [
    "import csv\n",
    "\n",
    "csv.register_dialect('hash_dialect', delimiter='#', quoting=csv.QUOTE_MINIMAL)\n",
    "\n",
    "with open('dados/custom.csv', mode='w', newline='') as file:\n",
    "    writer = csv.writer(file, dialect='hash_dialect')\n",
    "    writer.writerow(['id', 'name'])\n",
    "    writer.writerow([1, 'Alice'])\n"
   ]
  },
  {
   "cell_type": "markdown",
   "metadata": {},
   "source": [
    "\n",
    "## Desafio:\n",
    "Dado um arquivo CSV com dados de vendas de produtos (Produto, Quantidade Vendida), escreva um script que le o arquivo, calcula o total de vendas para cada produto e salva os resultados em um novo arquivo CSV.\n"
   ]
  }
 ],
 "metadata": {
  "kernelspec": {
   "display_name": "Python 3",
   "language": "python",
   "name": "python3"
  },
  "language_info": {
   "codemirror_mode": {
    "name": "ipython",
    "version": 3
   },
   "file_extension": ".py",
   "mimetype": "text/x-python",
   "name": "python",
   "nbconvert_exporter": "python",
   "pygments_lexer": "ipython3",
   "version": "3.12.1"
  }
 },
 "nbformat": 4,
 "nbformat_minor": 2
}
