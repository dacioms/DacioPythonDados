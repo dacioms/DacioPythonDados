{
 "cells": [
  {
   "cell_type": "markdown",
   "metadata": {},
   "source": [
    "# Módulo CSV"
   ]
  },
  {
   "cell_type": "markdown",
   "metadata": {},
   "source": [
    "\n",
    "## Objetivo:\n",
    "Ler e escrever arquivos CSV em Python, utilizando o modulo `csv`, e introduzir tecnicas avancadas para manipulacao desses arquivos.\n"
   ]
  },
  {
   "cell_type": "markdown",
   "metadata": {},
   "source": [
    "- Leitura de CSV"
   ]
  },
  {
   "cell_type": "code",
   "execution_count": 1,
   "metadata": {},
   "outputs": [
    {
     "name": "stdout",
     "output_type": "stream",
     "text": [
      "['Nome', 'Idade']\n",
      "['Alice', '30']\n",
      "['Bob', '25']\n"
     ]
    }
   ],
   "source": [
    "import csv\n",
    "\n",
    "# Exemplo: Leitura de um arquivo CSV\n",
    "with open('dados/exemplo.csv', 'r') as arquivo_csv:\n",
    "    leitor = csv.reader(arquivo_csv, delimiter=',')\n",
    "    for linha in leitor:\n",
    "        print(linha)\n"
   ]
  },
  {
   "cell_type": "markdown",
   "metadata": {},
   "source": [
    "### Atenção à importância do parâmetro delimiter, especialmente em arquivos que podem usar delimitadores diferentes da vírgula."
   ]
  },
  {
   "cell_type": "markdown",
   "metadata": {},
   "source": [
    "- Escrita de CSV\n",
    "\n",
    "  - Função csv.writer para escrever dados em um arquivo CSV, incluindo a criação de cabeçalhos e linhas de dados.\n",
    "  -  'writerows' pode ser usado para escrever múltiplas linhas de uma vez."
   ]
  },
  {
   "cell_type": "code",
   "execution_count": 3,
   "metadata": {},
   "outputs": [],
   "source": [
    "import csv\n",
    "\n",
    "# Exemplo: Escrita em um arquivo CSV\n",
    "dados = [['Nome', 'Idgvnade'], ['Aftjice', 30], ['jyBob', 25]]\n",
    "\n",
    "with open('dados/saida.csv', 'w', newline='') as arquivo_csv:\n",
    "    escritor = csv.writer(arquivo_csv, delimiter=',')\n",
    "    escritor.writerows(dados)\n"
   ]
  },
  {
   "cell_type": "code",
   "execution_count": 6,
   "metadata": {},
   "outputs": [
    {
     "name": "stdout",
     "output_type": "stream",
     "text": [
      "<_csv.reader object at 0x000001EF8B8804C0>\n",
      "['nome', 'cidade', 'idade']\n",
      "['Alice', 'Recife', '28']\n"
     ]
    }
   ],
   "source": [
    "import csv\n",
    "\n",
    "# Escrevendo em um arquivo CSV\n",
    "with open('dados/exemplinho.csv', 'w', newline='') as f:\n",
    "    writer = csv.writer(f)\n",
    "    writer.writerow(['nome', 'cidade', 'idade'])\n",
    "    writer.writerow(['Alice', 'Recife', 28])\n",
    "\n",
    "# Lendo um arquivo CSV\n",
    "with open('dados/exemplinho.csv', 'r') as f:\n",
    "    reader = csv.reader(f)\n",
    "    for row in reader:\n",
    "        print(row)\n"
   ]
  },
  {
   "cell_type": "markdown",
   "metadata": {},
   "source": [
    "Leitura e escrita de arquivos CSV utilizando dicionários com <code>csv.DictReader e csv.DictWriter</code>, permitindo um acesso mais intuitivo aos dados por meio dos cabeçalhos das colunas."
   ]
  },
  {
   "cell_type": "code",
   "execution_count": 11,
   "metadata": {},
   "outputs": [
    {
     "name": "stdout",
     "output_type": "stream",
     "text": [
      "{'Nome': 'Eduardo', 'Idade': '37', 'SalÃ¡rio': '5942'}\n",
      "Eduardo 37\n",
      "{'Nome': 'Ana', 'Idade': '32', 'SalÃ¡rio': '5191'}\n",
      "Ana 32\n",
      "{'Nome': 'Daniela', 'Idade': '57', 'SalÃ¡rio': '2430'}\n",
      "Daniela 57\n",
      "{'Nome': 'Daniela', 'Idade': '50', 'SalÃ¡rio': '6187'}\n",
      "Daniela 50\n",
      "{'Nome': 'Daniela', 'Idade': '19', 'SalÃ¡rio': '4446'}\n",
      "Daniela 19\n",
      "{'Nome': 'Bruno', 'Idade': '27', 'SalÃ¡rio': '4659'}\n",
      "Bruno 27\n",
      "{'Nome': 'Daniela', 'Idade': '50', 'SalÃ¡rio': '3589'}\n",
      "Daniela 50\n",
      "{'Nome': 'Carlos', 'Idade': '49', 'SalÃ¡rio': '4956'}\n",
      "Carlos 49\n",
      "{'Nome': 'Eduardo', 'Idade': '28', 'SalÃ¡rio': '4681'}\n",
      "Eduardo 28\n",
      "{'Nome': 'Ana', 'Idade': '41', 'SalÃ¡rio': '6180'}\n",
      "Ana 41\n",
      "{'Nome': 'Ana', 'Idade': '53', 'SalÃ¡rio': '4251'}\n",
      "Ana 53\n",
      "{'Nome': 'Eduardo', 'Idade': '29', 'SalÃ¡rio': '6420'}\n",
      "Eduardo 29\n",
      "{'Nome': 'Carlos', 'Idade': '46', 'SalÃ¡rio': '6870'}\n",
      "Carlos 46\n",
      "{'Nome': 'Bruno', 'Idade': '52', 'SalÃ¡rio': '3071'}\n",
      "Bruno 52\n",
      "{'Nome': 'Ana', 'Idade': '18', 'SalÃ¡rio': '6735'}\n",
      "Ana 18\n",
      "{'Nome': 'Bruno', 'Idade': '18', 'SalÃ¡rio': '7251'}\n",
      "Bruno 18\n",
      "{'Nome': 'Bruno', 'Idade': '54', 'SalÃ¡rio': '7068'}\n",
      "Bruno 54\n",
      "{'Nome': 'Ana', 'Idade': '23', 'SalÃ¡rio': '3204'}\n",
      "Ana 23\n",
      "{'Nome': 'Bruno', 'Idade': '56', 'SalÃ¡rio': '5918'}\n",
      "Bruno 56\n",
      "{'Nome': 'Eduardo', 'Idade': '58', 'SalÃ¡rio': '3167'}\n",
      "Eduardo 58\n",
      "{'Nome': 'Daniela', 'Idade': '35', 'SalÃ¡rio': '3684'}\n",
      "Daniela 35\n",
      "{'Nome': 'Ana', 'Idade': '33', 'SalÃ¡rio': '5299'}\n",
      "Ana 33\n",
      "{'Nome': 'Daniela', 'Idade': '22', 'SalÃ¡rio': '4767'}\n",
      "Daniela 22\n",
      "{'Nome': 'Ana', 'Idade': '59', 'SalÃ¡rio': '4957'}\n",
      "Ana 59\n",
      "{'Nome': 'Carlos', 'Idade': '49', 'SalÃ¡rio': '6469'}\n",
      "Carlos 49\n",
      "{'Nome': 'Daniela', 'Idade': '19', 'SalÃ¡rio': '7973'}\n",
      "Daniela 19\n",
      "{'Nome': 'Ana', 'Idade': '19', 'SalÃ¡rio': '2560'}\n",
      "Ana 19\n",
      "{'Nome': 'Bruno', 'Idade': '57', 'SalÃ¡rio': '7425'}\n",
      "Bruno 57\n",
      "{'Nome': 'Daniela', 'Idade': '59', 'SalÃ¡rio': '3605'}\n",
      "Daniela 59\n",
      "{'Nome': 'Daniela', 'Idade': '53', 'SalÃ¡rio': '7795'}\n",
      "Daniela 53\n"
     ]
    },
    {
     "ename": "ValueError",
     "evalue": "dict contains fields not in fieldnames: 'curso'",
     "output_type": "error",
     "traceback": [
      "\u001b[1;31m---------------------------------------------------------------------------\u001b[0m",
      "\u001b[1;31mValueError\u001b[0m                                Traceback (most recent call last)",
      "Cell \u001b[1;32mIn[11], line 11\u001b[0m\n\u001b[0;32m      9\u001b[0m writer \u001b[38;5;241m=\u001b[39m csv\u001b[38;5;241m.\u001b[39mDictWriter(outfile, fieldnames\u001b[38;5;241m=\u001b[39mfieldnames)\n\u001b[0;32m     10\u001b[0m writer\u001b[38;5;241m.\u001b[39mwriteheader()\n\u001b[1;32m---> 11\u001b[0m \u001b[43mwriter\u001b[49m\u001b[38;5;241;43m.\u001b[39;49m\u001b[43mwriterow\u001b[49m\u001b[43m(\u001b[49m\u001b[43m{\u001b[49m\u001b[38;5;124;43m'\u001b[39;49m\u001b[38;5;124;43mIdade\u001b[39;49m\u001b[38;5;124;43m'\u001b[39;49m\u001b[43m:\u001b[49m\u001b[43m \u001b[49m\u001b[38;5;241;43m22\u001b[39;49m\u001b[43m,\u001b[49m\u001b[43m \u001b[49m\u001b[38;5;124;43m'\u001b[39;49m\u001b[38;5;124;43mNome\u001b[39;49m\u001b[38;5;124;43m'\u001b[39;49m\u001b[43m:\u001b[49m\u001b[43m \u001b[49m\u001b[38;5;124;43m'\u001b[39;49m\u001b[38;5;124;43mCarfkmyflos\u001b[39;49m\u001b[38;5;124;43m'\u001b[39;49m\u001b[43m,\u001b[49m\u001b[43m \u001b[49m\u001b[38;5;124;43m'\u001b[39;49m\u001b[38;5;124;43mcurso\u001b[39;49m\u001b[38;5;124;43m'\u001b[39;49m\u001b[43m \u001b[49m\u001b[43m:\u001b[49m\u001b[43m \u001b[49m\u001b[38;5;124;43m'\u001b[39;49m\u001b[38;5;124;43mEDC\u001b[39;49m\u001b[38;5;124;43m'\u001b[39;49m\u001b[43m}\u001b[49m\u001b[43m)\u001b[49m\n",
      "File \u001b[1;32mc:\\Program Files\\Python312\\Lib\\csv.py:164\u001b[0m, in \u001b[0;36mDictWriter.writerow\u001b[1;34m(self, rowdict)\u001b[0m\n\u001b[0;32m    163\u001b[0m \u001b[38;5;28;01mdef\u001b[39;00m \u001b[38;5;21mwriterow\u001b[39m(\u001b[38;5;28mself\u001b[39m, rowdict):\n\u001b[1;32m--> 164\u001b[0m     \u001b[38;5;28;01mreturn\u001b[39;00m \u001b[38;5;28mself\u001b[39m\u001b[38;5;241m.\u001b[39mwriter\u001b[38;5;241m.\u001b[39mwriterow(\u001b[38;5;28;43mself\u001b[39;49m\u001b[38;5;241;43m.\u001b[39;49m\u001b[43m_dict_to_list\u001b[49m\u001b[43m(\u001b[49m\u001b[43mrowdict\u001b[49m\u001b[43m)\u001b[49m)\n",
      "File \u001b[1;32mc:\\Program Files\\Python312\\Lib\\csv.py:159\u001b[0m, in \u001b[0;36mDictWriter._dict_to_list\u001b[1;34m(self, rowdict)\u001b[0m\n\u001b[0;32m    157\u001b[0m     wrong_fields \u001b[38;5;241m=\u001b[39m rowdict\u001b[38;5;241m.\u001b[39mkeys() \u001b[38;5;241m-\u001b[39m \u001b[38;5;28mself\u001b[39m\u001b[38;5;241m.\u001b[39mfieldnames\n\u001b[0;32m    158\u001b[0m     \u001b[38;5;28;01mif\u001b[39;00m wrong_fields:\n\u001b[1;32m--> 159\u001b[0m         \u001b[38;5;28;01mraise\u001b[39;00m \u001b[38;5;167;01mValueError\u001b[39;00m(\u001b[38;5;124m\"\u001b[39m\u001b[38;5;124mdict contains fields not in fieldnames: \u001b[39m\u001b[38;5;124m\"\u001b[39m\n\u001b[0;32m    160\u001b[0m                          \u001b[38;5;241m+\u001b[39m \u001b[38;5;124m\"\u001b[39m\u001b[38;5;124m, \u001b[39m\u001b[38;5;124m\"\u001b[39m\u001b[38;5;241m.\u001b[39mjoin([\u001b[38;5;28mrepr\u001b[39m(x) \u001b[38;5;28;01mfor\u001b[39;00m x \u001b[38;5;129;01min\u001b[39;00m wrong_fields]))\n\u001b[0;32m    161\u001b[0m \u001b[38;5;28;01mreturn\u001b[39;00m (rowdict\u001b[38;5;241m.\u001b[39mget(key, \u001b[38;5;28mself\u001b[39m\u001b[38;5;241m.\u001b[39mrestval) \u001b[38;5;28;01mfor\u001b[39;00m key \u001b[38;5;129;01min\u001b[39;00m \u001b[38;5;28mself\u001b[39m\u001b[38;5;241m.\u001b[39mfieldnames)\n",
      "\u001b[1;31mValueError\u001b[0m: dict contains fields not in fieldnames: 'curso'"
     ]
    }
   ],
   "source": [
    "with open('dadosFictícios/Exemplo_Aula_6.csv', mode='r') as infile:\n",
    "    reader = csv.DictReader(infile)\n",
    "    for row in reader:\n",
    "        print(row)\n",
    "        print(row['Nome'], row['Idade'])\n",
    "\n",
    "with open('dados/saida.csv', mode='w', newline='') as outfile:\n",
    "    fieldnames = ['Nome', 'Idade']\n",
    "    writer = csv.DictWriter(outfile, fieldnames=fieldnames)\n",
    "    writer.writeheader()\n",
    "    writer.writerow({'Idade': 22, 'Nome': 'Carfkmyflos'})\n"
   ]
  },
  {
   "cell_type": "markdown",
   "metadata": {},
   "source": [
    "# ==> Ir para JSON"
   ]
  },
  {
   "cell_type": "markdown",
   "metadata": {},
   "source": [
    "### Dialeto: \n",
    "Permite especificar um conjunto de parâmetros específicos para um formato de CSV particular."
   ]
  },
  {
   "cell_type": "code",
   "execution_count": null,
   "metadata": {},
   "outputs": [],
   "source": [
    "import csv\n",
    "\n",
    "csv.register_dialect('hash_dialect', delimiter='#', quoting=csv.QUOTE_MINIMAL)\n",
    "\n",
    "with open('dados/custom.csv', mode='w', newline='') as file:\n",
    "    writer = csv.writer(file, dialect='hash_dialect')\n",
    "    writer.writerow(['id', 'name'])\n",
    "    writer.writerow([1, 'Alice'])\n"
   ]
  },
  {
   "cell_type": "markdown",
   "metadata": {},
   "source": [
    "\n",
    "## Desafio:\n",
    "Dado um arquivo CSV com dados de vendas de produtos (Produto, Quantidade Vendida), escreva um script que le o arquivo, calcula o total de vendas para cada produto e salva os resultados em um novo arquivo CSV.\n"
   ]
  }
 ],
 "metadata": {
  "kernelspec": {
   "display_name": "Python 3",
   "language": "python",
   "name": "python3"
  },
  "language_info": {
   "codemirror_mode": {
    "name": "ipython",
    "version": 3
   },
   "file_extension": ".py",
   "mimetype": "text/x-python",
   "name": "python",
   "nbconvert_exporter": "python",
   "pygments_lexer": "ipython3",
   "version": "3.12.1"
  }
 },
 "nbformat": 4,
 "nbformat_minor": 2
}
