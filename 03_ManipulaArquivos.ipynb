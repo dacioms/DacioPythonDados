{
 "cells": [
  {
   "cell_type": "markdown",
   "metadata": {},
   "source": [
    "# Manipulacao de Arquivos"
   ]
  },
  {
   "cell_type": "markdown",
   "metadata": {},
   "source": [
    "\n",
    "## Objetivo:\n",
    "Operacoes basicas de leitura e escrita de arquivos em Python.\n",
    "- Leitura e Escrita de Arquivos\n",
    "    - Arquivos de texto: Utilize `open(), read(), readline(), readlines(), write(), e writelines()` para manipular arquivos de texto plano.\n",
    "    - Arquivos binários: Para lidar com arquivos binários, como imagens ou arquivos de áudio, use `open()` com o modo 'rb' (read binary) ou 'wb' (write binary).\n"
   ]
  },
  {
   "cell_type": "markdown",
   "metadata": {},
   "source": [
    "## Abrindo e Fechando Arquivos\n",
    "\n",
    "Função open():\n",
    "    Sintaxe: \n",
    "    \n",
    "    file = open('path_to_file', 'mode')\n",
    "    \n",
    "    file.close()\n",
    "\n",
    "- Modos principais:\n",
    "    - 'r' – Leitura (padrão).\n",
    "    - 'w' – Escrita (sobrescreve dados).\n",
    "    - 'a' – Adição (escreve dados no final do arquivo).\n",
    "    - 'r+' – Leitura e escrita."
   ]
  },
  {
   "cell_type": "code",
   "execution_count": 11,
   "metadata": {},
   "outputs": [
    {
     "name": "stdout",
     "output_type": "stream",
     "text": [
      "esse Ã© um arquivo de exemplo\n",
      "uma nova linha do exemplo\n"
     ]
    }
   ],
   "source": [
    "file = open('dados/exemplo.txt', 'r')\n",
    "print(file.read())\n",
    "\n",
    "file.close()\n"
   ]
  },
  {
   "cell_type": "markdown",
   "metadata": {},
   "source": [
    "### Escrevendo e Anexando em Arquivos\n",
    "Escrever em arquivos é tão fácil quanto lê-los. \n",
    "\n",
    "O modo 'w' cria um novo arquivo ou sobrescreve um existente, enquanto 'a' adiciona ao final de um arquivo existente. \n",
    "\n",
    "Vejamos como fazer isso."
   ]
  },
  {
   "cell_type": "code",
   "execution_count": null,
   "metadata": {},
   "outputs": [],
   "source": [
    "\n",
    "# Exemplo: Escrita em um arquivo de texto\n",
    "with open('dados/saida.txt', 'w') as arquivo:\n",
    "    arquivo.write('Hello, world!')\n",
    "    \n",
    "# arquivo.close()\n"
   ]
  },
  {
   "cell_type": "code",
   "execution_count": 1,
   "metadata": {},
   "outputs": [
    {
     "name": "stdout",
     "output_type": "stream",
     "text": [
      "Olá, mundo!\n"
     ]
    }
   ],
   "source": [
    "# Escrevendo em um arquivo\n",
    "with open('dados/exemplinho.txt', 'w') as f:\n",
    "    f.write('Olá, mundo!')\n",
    "\n",
    "# Lendo o mesmo arquivo\n",
    "with open('dados/exemplinho.txt', 'r') as f:\n",
    "    conteudo = f.read()\n",
    "    print(conteudo)  # Saída: Olá, mundo!\n"
   ]
  },
  {
   "cell_type": "markdown",
   "metadata": {},
   "source": [
    "### Lendo Arquivos\n",
    "Quando lemos arquivos, podemos querer todo o conteúdo de uma vez ou processá-lo linha por linha. \n",
    "\n",
    "Existem métodos para cada caso: `read(), readline(), e readlines()`. \n",
    "\n",
    "Vamos explorar como usá-los."
   ]
  },
  {
   "cell_type": "code",
   "execution_count": 3,
   "metadata": {},
   "outputs": [
    {
     "name": "stdout",
     "output_type": "stream",
     "text": [
      "OI PESSOAL DO INFNET!!!!\n",
      "esse aqui um mais um arquivo de exemplo\n",
      "uma nova linha do exemplo\n",
      "E TUDO VAI SER SOBRESCRITO\n"
     ]
    }
   ],
   "source": [
    "\n",
    "# Exemplo: Leitura de um arquivo de texto\n",
    "with open('dados/exemplo2.txt', 'r') as arquivo:\n",
    "    conteudo = arquivo.read()\n",
    "    print(conteudo)\n"
   ]
  },
  {
   "cell_type": "markdown",
   "metadata": {},
   "source": [
    "## Abrindo e Fechando Arquivos\n",
    "Para começar a trabalhar com arquivos em Python, usamos a função `open()`. \n",
    "\n",
    "Ela tem dois argumentos principais: o caminho do arquivo e o modo. \n",
    "Por exemplo, `open('meu_arquivo.txt', 'r')` abre o arquivo meu_arquivo.txt em modo de leitura. \n",
    "\n",
    "É essencial fechar cada arquivo aberto com `close()` para liberar recursos. \n",
    "\n",
    "Contudo, uma forma mais segura e moderna de fazer isso é utilizando o gerenciador de contexto `with`, que automaticamente cuida do fechamento para nós. "
   ]
  },
  {
   "cell_type": "markdown",
   "metadata": {},
   "source": [
    "### Métodos de Leitura\n",
    "   "
   ]
  },
  {
   "cell_type": "markdown",
   "metadata": {},
   "source": [
    "Ler o conteúdo de um arquivo usando métodos como `read(), readline()` para ler linha a linha, e `readlines()` para obter uma lista de linhas."
   ]
  },
  {
   "cell_type": "markdown",
   "metadata": {},
   "source": [
    "Lê todo o conteúdo do arquivo em uma única string."
   ]
  },
  {
   "cell_type": "code",
   "execution_count": 6,
   "metadata": {},
   "outputs": [
    {
     "data": {
      "text/plain": [
       "'Primeira linha\\nSegunda linha\\n'"
      ]
     },
     "execution_count": 6,
     "metadata": {},
     "output_type": "execute_result"
    }
   ],
   "source": [
    "with open('dados/example.txt', 'r') as file:\n",
    "    content = file.read()\n",
    "content\n"
   ]
  },
  {
   "cell_type": "markdown",
   "metadata": {},
   "source": [
    "Lê uma linha a cada chamada."
   ]
  },
  {
   "cell_type": "code",
   "execution_count": 5,
   "metadata": {},
   "outputs": [
    {
     "name": "stdout",
     "output_type": "stream",
     "text": [
      "Primeira linha\n",
      "Segunda linha\n"
     ]
    }
   ],
   "source": [
    "with open('dados/example.txt', 'r') as file:\n",
    "    line = file.readline()\n",
    "    while line:\n",
    "        print(line.strip())\n",
    "        line = file.readline()\n"
   ]
  },
  {
   "cell_type": "markdown",
   "metadata": {},
   "source": [
    "Retorna todas as linhas do arquivo como uma lista."
   ]
  },
  {
   "cell_type": "code",
   "execution_count": 10,
   "metadata": {},
   "outputs": [
    {
     "name": "stdout",
     "output_type": "stream",
     "text": [
      "Primeira linha\n",
      "Segunda linha\n"
     ]
    }
   ],
   "source": [
    "with open('dados/example.txt', 'r') as file:\n",
    "    lines = file.readlines()\n",
    "    for line in lines:\n",
    "        print(line.strip())\n"
   ]
  },
  {
   "cell_type": "markdown",
   "metadata": {},
   "source": [
    "### Métopdos de escrita\n",
    "Escrever arquivos usando os modos de abertura 'w' para escrita (sobrescrevendo o conteúdo existente) e 'a' para adicionar (mantendo o conteúdo existente e adicionando ao final)."
   ]
  },
  {
   "cell_type": "markdown",
   "metadata": {},
   "source": [
    "Escreve uma string no arquivo."
   ]
  },
  {
   "cell_type": "code",
   "execution_count": 8,
   "metadata": {},
   "outputs": [],
   "source": [
    "with open('dados/example.txt', 'w') as file:\n",
    "    file.write('Hello, world!\\n')\n"
   ]
  },
  {
   "cell_type": "markdown",
   "metadata": {},
   "source": [
    "Escreve uma lista de strings no arquivo."
   ]
  },
  {
   "cell_type": "code",
   "execution_count": null,
   "metadata": {},
   "outputs": [],
   "source": [
    "lines = ['Primeira linha\\n', 'Segunda linha\\n']\n",
    "with open('dados/example.txt', 'w') as file:\n",
    "    file.writelines(lines)\n"
   ]
  },
  {
   "cell_type": "markdown",
   "metadata": {},
   "source": [
    "Adiciona uma string no final do arquivo"
   ]
  },
  {
   "cell_type": "code",
   "execution_count": null,
   "metadata": {},
   "outputs": [],
   "source": [
    "with open('dados/exemplo.txt', 'a') as arquivo:\n",
    "    arquivo.write('\\nNova linha no final do arquivo')\n"
   ]
  },
  {
   "cell_type": "markdown",
   "metadata": {},
   "source": [
    "## Desafio\n",
    "\n",
    "Desenvolver um programa que adicione um cabeçalho a um arquivo existente sem sobrescrever seu conteúdo original."
   ]
  },
  {
   "cell_type": "markdown",
   "metadata": {},
   "source": [
    "### manipular arquivos em diferentes formatos como CSV e JSON. A importância de bibliotecas específicas."
   ]
  }
 ],
 "metadata": {
  "kernelspec": {
   "display_name": "Python 3",
   "language": "python",
   "name": "python3"
  },
  "language_info": {
   "codemirror_mode": {
    "name": "ipython",
    "version": 3
   },
   "file_extension": ".py",
   "mimetype": "text/x-python",
   "name": "python",
   "nbconvert_exporter": "python",
   "pygments_lexer": "ipython3",
   "version": "3.12.3"
  }
 },
 "nbformat": 4,
 "nbformat_minor": 2
}
