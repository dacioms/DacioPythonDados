{
 "cells": [
  {
   "cell_type": "markdown",
   "metadata": {},
   "source": [
    "# Manipulacao de Arquivos"
   ]
  },
  {
   "cell_type": "markdown",
   "metadata": {},
   "source": [
    "\n",
    "## Objetivo:\n",
    "Operacoes basicas de leitura e escrita de arquivos em Python.\n",
    "- Leitura e Escrita de Arquivos\n",
    "    - Arquivos de texto: Utilize open(), read(), readline(), readlines(), write(), e writelines() para manipular arquivos de texto plano.\n",
    "    - Arquivos binários: Para lidar com arquivos binários, como imagens ou arquivos de áudio, use open() com o modo 'rb' (read binary) ou 'wb' (write binary).\n"
   ]
  },
  {
   "cell_type": "markdown",
   "metadata": {},
   "source": [
    "#Abrindo e Fechando Arquivos\n",
    "\n",
    "Função open():\n",
    "    Sintaxe: \n",
    "    \n",
    "    file = open('path_to_file', 'mode')\n",
    "    \n",
    "    file.close()\n",
    "\n",
    "- Modos principais:\n",
    "    - 'r' – Leitura (padrão).\n",
    "    - 'w' – Escrita (sobrescreve dados).\n",
    "    - 'a' – Adição (escreve dados no final do arquivo).\n",
    "    - 'r+' – Leitura e escrita."
   ]
  },
  {
   "cell_type": "code",
   "execution_count": null,
   "metadata": {},
   "outputs": [],
   "source": [
    "file = open('exemplo.txt', 'r')\n",
    "print(file.read())\n",
    "\n",
    "file.close()\n"
   ]
  },
  {
   "cell_type": "markdown",
   "metadata": {},
   "source": [
    "### Escrevendo e Anexando em Arquivos\n",
    "Escrever em arquivos é tão fácil quanto lê-los. O modo 'w' cria um novo arquivo ou sobrescreve um existente, enquanto 'a' adiciona ao final de um arquivo existente. Vejamos como fazer isso."
   ]
  },
  {
   "cell_type": "code",
   "execution_count": null,
   "metadata": {},
   "outputs": [],
   "source": [
    "\n",
    "# Exemplo: Escrita em um arquivo de texto\n",
    "with open('saida.txt', 'w') as arquivo:\n",
    "    arquivo.write('Hello, world!')\n",
    "    \n",
    "# arquivo.close()\n"
   ]
  },
  {
   "cell_type": "markdown",
   "metadata": {},
   "source": [
    "### Lendo Arquivos\n",
    "Quando lemos arquivos, podemos querer todo o conteúdo de uma vez ou processá-lo linha por linha. Existem métodos para cada caso: read(), readline(), e readlines(). Vamos explorar como usá-los."
   ]
  },
  {
   "cell_type": "code",
   "execution_count": null,
   "metadata": {},
   "outputs": [],
   "source": [
    "\n",
    "# Exemplo: Leitura de um arquivo de texto\n",
    "with open('exemplo.txt', 'r') as arquivo:\n",
    "    conteudo = arquivo.read()\n",
    "    print(conteudo)\n"
   ]
  },
  {
   "cell_type": "markdown",
   "metadata": {},
   "source": [
    "## Abrindo e Fechando Arquivos\n",
    "Para começar a trabalhar com arquivos em Python, usamos a função open(). Ela tem dois argumentos principais: o caminho do arquivo e o modo. Por exemplo, \"open('meu_arquivo.txt', 'r')\" abre o arquivo meu_arquivo.txt em modo de leitura. É essencial fechar cada arquivo aberto com close() para liberar recursos. Contudo, uma forma mais segura e moderna de fazer isso é utilizando o gerenciador de contexto with, que automaticamente cuida do fechamento para nós. "
   ]
  },
  {
   "cell_type": "markdown",
   "metadata": {},
   "source": [
    "# Métodos de Leitura\n",
    "   "
   ]
  },
  {
   "cell_type": "markdown",
   "metadata": {},
   "source": [
    "Ler o conteúdo de um arquivo usando métodos como read(), readline() para ler linha a linha, e readlines() para obter uma lista de linhas."
   ]
  },
  {
   "cell_type": "code",
   "execution_count": null,
   "metadata": {},
   "outputs": [],
   "source": [
    "with open('example.txt', 'r') as file:\n",
    "    content = file.read()\n"
   ]
  },
  {
   "cell_type": "code",
   "execution_count": null,
   "metadata": {},
   "outputs": [],
   "source": [
    "with open('example.txt', 'r') as file:\n",
    "    line = file.readline()\n",
    "    while line:\n",
    "        print(line.strip())\n",
    "        line = file.readline()\n"
   ]
  },
  {
   "cell_type": "code",
   "execution_count": null,
   "metadata": {},
   "outputs": [],
   "source": [
    "with open('example.txt', 'r') as file:\n",
    "    lines = file.readlines()\n",
    "    for line in lines:\n",
    "        print(line.strip())\n"
   ]
  },
  {
   "cell_type": "markdown",
   "metadata": {},
   "source": [
    "Escrever arquivos usando os modos de abertura 'w' para escrita (sobrescrevendo o conteúdo existente) e 'a' para adicionar (mantendo o conteúdo existente e adicionando ao final)."
   ]
  },
  {
   "cell_type": "code",
   "execution_count": null,
   "metadata": {},
   "outputs": [],
   "source": [
    "with open('example.txt', 'w') as file:\n",
    "    file.write('Hello, world!\\n')\n"
   ]
  },
  {
   "cell_type": "code",
   "execution_count": null,
   "metadata": {},
   "outputs": [],
   "source": [
    "lines = ['Primeira linha\\n', 'Segunda linha\\n']\n",
    "with open('example.txt', 'w') as file:\n",
    "    file.writelines(lines)\n"
   ]
  },
  {
   "cell_type": "code",
   "execution_count": null,
   "metadata": {},
   "outputs": [],
   "source": [
    "with open('exemplo.txt', 'a') as arquivo:\n",
    "    arquivo.write('\\nNova linha no final do arquivo')\n"
   ]
  },
  {
   "cell_type": "markdown",
   "metadata": {},
   "source": [
    "## Outros modos\n",
    "\n",
    "Modo 'b' (binário): Utilizado para trabalhar com arquivos que não são texto, como imagens ou documentos PDF. Pode ser combinado com outros modos, como 'rb' ou 'wb'.\n",
    "\n",
    "Modo 'x' (exclusivo): Cria e abre um arquivo apenas se ele não existir; falha se o arquivo já existir."
   ]
  },
  {
   "cell_type": "code",
   "execution_count": null,
   "metadata": {},
   "outputs": [],
   "source": [
    "with open('newfile.txt', 'x') as f:\n",
    "    f.write('Novo arquivo criado!')\n"
   ]
  },
  {
   "cell_type": "markdown",
   "metadata": {},
   "source": [
    "# Encoding"
   ]
  },
  {
   "cell_type": "code",
   "execution_count": null,
   "metadata": {},
   "outputs": [],
   "source": [
    "with open('example.txt', 'r', encoding='utf-8') as file:\n",
    "    content = file.read()\n"
   ]
  },
  {
   "cell_type": "markdown",
   "metadata": {},
   "source": [
    "\n",
    "## Desafio:\n",
    "Escreva um script Python que leia um arquivo de texto, conte e conte quantas palavras diferente existem no texto e o número de ocorrencias de cada um e escreva os resultados em um novo arquivo de texto de forma ordenada.\n"
   ]
  },
  {
   "cell_type": "markdown",
   "metadata": {},
   "source": [
    "## Manipulação Avançada de Arquivos\n",
    "Além dos básicos de leitura e escrita, há mais funcionalidades do Python para trabalhar com arquivos, como manipular arquivos grandes ou realizar operações de arquivo mais complexas:"
   ]
  },
  {
   "cell_type": "code",
   "execution_count": null,
   "metadata": {},
   "outputs": [],
   "source": [
    "# Lendo grandes arquivos linha por linha\n",
    "with open('grande_arquivo.txt', 'r') as f:\n",
    "    for linha in f:\n",
    "        # Processa cada linha\n",
    "        pass\n",
    "\n",
    "# Escrevendo em um arquivo com append\n",
    "with open('log.txt', 'a') as f:\n",
    "    f.write('Nova entrada de log\\n')\n",
    "\n",
    "# Trabalhando com arquivos binários\n",
    "with open('imagem.png', 'rb') as f:\n",
    "    dados = f.read()  # Lê todo o conteúdo binário\n"
   ]
  },
  {
   "cell_type": "markdown",
   "metadata": {},
   "source": [
    "### Trabalho com Arquivos Grandes\n",
    "Leitura por Chunks: Ao trabalhar com arquivos muito grandes, pode ser útil ler o arquivo em pedaços menores (chunks)."
   ]
  },
  {
   "cell_type": "code",
   "execution_count": null,
   "metadata": {},
   "outputs": [],
   "source": [
    "def read_in_chunks(file_object, chunk_size=1024):\n",
    "    \"\"\"Lê um arquivo em pedaços de tamanho especificado.\"\"\"\n",
    "    while True:\n",
    "        data = file_object.read(chunk_size)\n",
    "        if not data:\n",
    "            break\n",
    "        yield data\n",
    "\n",
    "with open('large_file.txt', 'r') as f:\n",
    "    for piece in read_in_chunks(f):\n",
    "        process_data(piece)\n"
   ]
  },
  {
   "cell_type": "markdown",
   "metadata": {},
   "source": [
    "## Exemplo de sistema que manipula arquivos"
   ]
  },
  {
   "cell_type": "code",
   "execution_count": null,
   "metadata": {},
   "outputs": [],
   "source": [
    "def ler_arquivo(nome_arquivo):\n",
    "    try:\n",
    "        with open(nome_arquivo, 'r') as arquivo:\n",
    "            print(arquivo.read())\n",
    "    except FileNotFoundError:\n",
    "        print(\"Arquivo não encontrado.\")\n",
    "\n",
    "def adicionar_linha(nome_arquivo, texto):\n",
    "    with open(nome_arquivo, 'a') as arquivo:\n",
    "        arquivo.write(texto + '\\n')\n",
    "    print(\"Texto adicionado com sucesso.\")\n",
    "\n",
    "def substituir_conteudo(nome_arquivo, novo_conteudo):\n",
    "    with open(nome_arquivo, 'w') as arquivo:\n",
    "        arquivo.write(novo_conteudo)\n",
    "    print(\"Conteúdo substituído com sucesso.\")\n",
    "\n",
    "def ler_linha_especifica(nome_arquivo, numero_linha):\n",
    "    try:\n",
    "        with open(nome_arquivo, 'r') as arquivo:\n",
    "            for atual, linha in enumerate(arquivo, 1):\n",
    "                if atual == numero_linha:\n",
    "                    print(linha)\n",
    "                    break\n",
    "    except FileNotFoundError:\n",
    "        print(\"Arquivo não encontrado.\")\n",
    "\n",
    "def menu():\n",
    "    print(\"Gerenciador de Arquivo de Texto\")\n",
    "    print(\"1. Ler arquivo\")\n",
    "    print(\"2. Adicionar linha\")\n",
    "    print(\"3. Substituir conteúdo\")\n",
    "    print(\"4. Ler linha específica\")\n",
    "    print(\"5. Sair\")\n",
    "\n",
    "    escolha = input(\"Escolha uma opção: \")\n",
    "    nome_arquivo = \"meu_arquivo.txt\"\n",
    "\n",
    "    if escolha == '1':\n",
    "        ler_arquivo(nome_arquivo)\n",
    "    elif escolha == '2':\n",
    "        texto = input(\"Digite o texto a ser adicionado: \")\n",
    "        adicionar_linha(nome_arquivo, texto)\n",
    "    elif escolha == '3':\n",
    "        novo_conteudo = input(\"Digite o novo conteúdo do arquivo: \")\n",
    "        substituir_conteudo(nome_arquivo, novo_conteudo)\n",
    "    elif escolha == '4':\n",
    "        numero_linha = int(input(\"Digite o número da linha a ser lida: \"))\n",
    "        ler_linha_especifica(nome_arquivo, numero_linha)\n",
    "    elif escolha == '5':\n",
    "        print(\"Encerrando o programa.\")\n",
    "        return\n",
    "    else:\n",
    "        print(\"Opção inválida.\")\n",
    "\n",
    "    menu()\n",
    "\n",
    "menu()\n"
   ]
  },
  {
   "cell_type": "markdown",
   "metadata": {},
   "source": [
    "# Módulo CSV"
   ]
  },
  {
   "cell_type": "markdown",
   "metadata": {},
   "source": [
    "\n",
    "## Objetivo:\n",
    "Ler e escrever arquivos CSV em Python, utilizando o modulo `csv`, e introduzir tecnicas avancadas para manipulacao desses arquivos.\n"
   ]
  },
  {
   "cell_type": "code",
   "execution_count": null,
   "metadata": {},
   "outputs": [],
   "source": [
    "import csv\n",
    "\n",
    "# Exemplo: Leitura de um arquivo CSV\n",
    "with open('exemplo.csv', 'r') as arquivo_csv:\n",
    "    leitor = csv.reader(arquivo_csv, delimiter=',')\n",
    "    for linha in leitor:\n",
    "        print(linha)\n"
   ]
  },
  {
   "cell_type": "markdown",
   "metadata": {},
   "source": [
    "função csv.writer para escrever dados em um arquivo CSV, incluindo a criação de cabeçalhos e linhas de dados."
   ]
  },
  {
   "cell_type": "code",
   "execution_count": null,
   "metadata": {},
   "outputs": [],
   "source": [
    "import csv\n",
    "\n",
    "# Exemplo: Escrita em um arquivo CSV\n",
    "dados = [['Nome', 'Idade'], ['Alice', 30], ['Bob', 25]]\n",
    "\n",
    "with open('saida.csv', 'w', newline='') as arquivo_csv:\n",
    "    escritor = csv.writer(arquivo_csv, delimiter=',')\n",
    "    escritor.writerows(dados)\n"
   ]
  },
  {
   "cell_type": "markdown",
   "metadata": {},
   "source": [
    "Leitura e escrita de arquivos CSV utilizando dicionários com csv.DictReader e csv.DictWriter, permitindo um acesso mais intuitivo aos dados por meio dos cabeçalhos das colunas."
   ]
  },
  {
   "cell_type": "code",
   "execution_count": null,
   "metadata": {},
   "outputs": [],
   "source": [
    "with open('dados.csv', mode='r') as infile:\n",
    "    reader = csv.DictReader(infile)\n",
    "    for row in reader:\n",
    "        print(row['Nome'], row['Idade'])\n",
    "\n",
    "with open('saida.csv', mode='w', newline='') as outfile:\n",
    "    fieldnames = ['Nome', 'Idade']\n",
    "    writer = csv.DictWriter(outfile, fieldnames=fieldnames)\n",
    "    writer.writeheader()\n",
    "    writer.writerow({'Nome': 'Carlos', 'Idade': 22})\n"
   ]
  },
  {
   "cell_type": "markdown",
   "metadata": {},
   "source": [
    "### Dialeto: \n",
    "Permite especificar um conjunto de parâmetros específicos para um formato de CSV particular."
   ]
  },
  {
   "cell_type": "code",
   "execution_count": null,
   "metadata": {},
   "outputs": [],
   "source": [
    "import csv\n",
    "\n",
    "csv.register_dialect('hash_dialect', delimiter='#', quoting=csv.QUOTE_MINIMAL)\n",
    "\n",
    "with open('custom.csv', mode='w', newline='') as file:\n",
    "    writer = csv.writer(file, dialect='hash_dialect')\n",
    "    writer.writerow(['id', 'name'])\n",
    "    writer.writerow([1, 'Alice'])\n"
   ]
  },
  {
   "cell_type": "markdown",
   "metadata": {},
   "source": [
    "\n",
    "## Desafio:\n",
    "Dado um arquivo CSV com dados de vendas de produtos (Produto, Quantidade Vendida), escreva um script que le o arquivo, calcula o total de vendas para cada produto e salva os resultados em um novo arquivo CSV.\n"
   ]
  },
  {
   "cell_type": "markdown",
   "metadata": {},
   "source": [
    "\n",
    "# Módulo JSON - JavaScript Object Notation\n",
    "Manipulacao de arquivos JSON em Python, utilizando o modulo `json` para ler e escrever esses arquivos. Muito útil para lidar com API e arquuivosde configurações..\n"
   ]
  },
  {
   "cell_type": "markdown",
   "metadata": {},
   "source": [
    "JSON (JavaScript Object Notation) é um formato leve de troca de dados, fácil de ler e escrever para humanos e fácil de parsear e gerar por máquinas. "
   ]
  },
  {
   "cell_type": "code",
   "execution_count": null,
   "metadata": {},
   "outputs": [],
   "source": [
    "{\n",
    "  \"nome\": \"João\",\n",
    "  \"idade\": 30,\n",
    "  \"email\": \"joao@email.com\"\n",
    "}\n"
   ]
  },
  {
   "cell_type": "markdown",
   "metadata": {},
   "source": [
    "Ler arquivos JSON com a função json.load(), convertendo-os em dicionários Python."
   ]
  },
  {
   "cell_type": "code",
   "execution_count": null,
   "metadata": {},
   "outputs": [],
   "source": [
    "\n",
    "import json\n",
    "\n",
    "# Exemplo: Leitura de um arquivo JSON\n",
    "with open('exemplo.json', 'r') as arquivo_json:\n",
    "    dados = json.load(arquivo_json)\n",
    "    print(dados)\n"
   ]
  },
  {
   "cell_type": "markdown",
   "metadata": {},
   "source": [
    "Converter dicionários Python de volta para o formato JSON e escrevê-los em arquivos usando a função json.dump()."
   ]
  },
  {
   "cell_type": "code",
   "execution_count": null,
   "metadata": {},
   "outputs": [],
   "source": [
    "import json\n",
    "\n",
    "# Exemplo: Escrita em um arquivo JSON\n",
    "dados_novos = {'nome': 'Alice', 'idade': 30, 'email': 'alice@example.com'}\n",
    "\n",
    "with open('saida.json', 'w') as arquivo_json:\n",
    "    json.dump(dados_novos, arquivo_json, indent=4)\n"
   ]
  },
  {
   "cell_type": "markdown",
   "metadata": {},
   "source": [
    "### Características de arquivos JSON\n",
    "\n",
    "- Formato de Dados: JSON é baseado em dois estruturas:\n",
    "  \n",
    "    - Coleções de pares chave/valor: Em várias linguagens, isso é realizado como um objeto, registro, estrutura, dicionário, tabela hash, lista de chaves ou array associativo.\n",
    "    - Listas ordenadas de valores: Na maioria das linguagens, isso é realizado como arrays, vetores, listas ou sequências.\n",
    "\n",
    "\n",
    "- Sintaxe:\n",
    "  \n",
    "    - Objetos: São delimitados por chaves { } e contêm pares chave/valor. As chaves são strings e os valores podem ser strings, números, booleanos, arrays, objetos ou null. Por exemplo: {\"nome\": \"João\", \"idade\": 30}.\n",
    "    - Arrays: São delimitados por colchetes [ ] e contêm uma lista de valores (que podem ser de qualquer tipo mencionado acima). Por exemplo: [\"apple\", \"banana\", \"cherry\"].\n",
    "    Cada elemento em um array ou cada par chave/valor em um objeto é separado por vírgula.\n",
    "\n",
    "\n",
    "- Tipos de Dados:\n",
    "  \n",
    "    - JSON suporta os seguintes tipos de dados: string, número, objeto (JSON object), array, booleano (true e false) e null.\n",
    "\n",
    "- Codificação: JSON é geralmente codificado em UTF-8.\n",
    "\n",
    "\n",
    "- Convenções:\n",
    "  \n",
    "    - Não há comentários em JSON, o que é uma diferença significativa em relação a outros formatos de arquivo de configuração como XML ou YAML.\n",
    "    - JSON não suporta referências a outras partes do mesmo JSON diretamente.\n",
    "    - A ordem dos elementos em arrays é preservada, mas a ordem dos pares chave/valor em objetos não é garantida e pode variar de uma implementação para outra."
   ]
  },
  {
   "cell_type": "markdown",
   "metadata": {},
   "source": [
    "### Trabalhando com JSONs Complexos\n",
    "\n",
    "Manipular JSONs mais complexos que contêm listas aninhadas e dicionários, demonstrando como iterar sobre esses dados."
   ]
  },
  {
   "cell_type": "code",
   "execution_count": null,
   "metadata": {},
   "outputs": [],
   "source": [
    "# Exemplo de JSON complexo\n",
    "dados_complexos = {\n",
    "  \"empregados\": [\n",
    "    {\"nome\": \"João\", \"idade\": 30},\n",
    "    {\"nome\": \"Ana\", \"idade\": 25}\n",
    "  ]\n",
    "}\n",
    "\n",
    "# Acessando dados\n",
    "for empregado in dados_complexos[\"empregados\"]:\n",
    "    print(empregado[\"nome\"], empregado[\"idade\"])\n"
   ]
  },
  {
   "cell_type": "markdown",
   "metadata": {},
   "source": [
    "## Trabalho com JSON em Strings\n",
    "\n",
    "- Funções <code>json.loads() e json.dumps():</code>\n",
    "    - json.loads(): Converte uma string JSON em um objeto Python.\n",
    "    - json.dumps(): Converte um objeto Python em uma string JSON."
   ]
  },
  {
   "cell_type": "code",
   "execution_count": null,
   "metadata": {},
   "outputs": [],
   "source": [
    "import json\n",
    "\n",
    "# Convertendo string JSON para dicionário Python\n",
    "json_string = '{\"nome\": \"Bob\", \"idade\": 25, \"cidade\": \"Los Angeles\"}'\n",
    "dados = json.loads(json_string)\n",
    "\n",
    "# Convertendo dicionário Python para string JSON\n",
    "nova_string_json = json.dumps(dados, indent=4)\n",
    "print(nova_string_json)\n"
   ]
  },
  {
   "cell_type": "markdown",
   "metadata": {},
   "source": [
    "\n",
    "## Desafio:\n",
    "Escreva um script Python que le um arquivo JSON contendo uma lista de registros (por exemplo, pessoas com nome, idade e email). Seu script deve filtrar as pessoas que tem mais de 25 anos e escrever essa informacao filtrada em um novo arquivo JSON.\n"
   ]
  },
  {
   "cell_type": "markdown",
   "metadata": {},
   "source": [
    "## Integração de JSON com APIs Web\n",
    "Uso com requests: Utilizar JSON em interações com APIs web, onde o formato JSON é comumente usado para enviar e receber dados."
   ]
  },
  {
   "cell_type": "code",
   "execution_count": null,
   "metadata": {},
   "outputs": [],
   "source": [
    "import requests\n",
    "import json\n",
    "\n",
    "url = 'https://economia.awesomeapi.com.br/json/last/USD-BRL,EUR-BRL,BTC-BRL'\n",
    "headers = {'Content-Type': 'application/json'}\n",
    "\n",
    "response = requests.get(url, headers=headers)\n",
    "if response.status_code == 200:\n",
    "    dados = json.loads(response.text)\n",
    "    print(dados)\n"
   ]
  },
  {
   "cell_type": "code",
   "execution_count": null,
   "metadata": {},
   "outputs": [],
   "source": [
    "import requests\n",
    "import json\n",
    "\n",
    "url = 'https://cep.awesomeapi.com.br/json/20010020'\n",
    "headers = {'Content-Type': 'application/json'}\n",
    "\n",
    "response = requests.get(url, headers=headers)\n",
    "if response.status_code == 200:\n",
    "    dados = json.loads(response.text)\n",
    "    print(dados)\n"
   ]
  },
  {
   "cell_type": "markdown",
   "metadata": {},
   "source": [
    "# Ver também\n",
    "\n",
    "- módulo OS\n",
    "\n",
    "- Módulo shutil\n",
    "\n",
    "- Módulo openpyxl \n",
    "\n",
    "- Módulo requests"
   ]
  }
 ],
 "metadata": {
  "kernelspec": {
   "display_name": "Python 3",
   "language": "python",
   "name": "python3"
  },
  "language_info": {
   "codemirror_mode": {
    "name": "ipython",
    "version": 3
   },
   "file_extension": ".py",
   "mimetype": "text/x-python",
   "name": "python",
   "nbconvert_exporter": "python",
   "pygments_lexer": "ipython3",
   "version": "3.12.3"
  }
 },
 "nbformat": 4,
 "nbformat_minor": 2
}
