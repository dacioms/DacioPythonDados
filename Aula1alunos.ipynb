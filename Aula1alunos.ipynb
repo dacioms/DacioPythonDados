{
 "cells": [
  {
   "cell_type": "code",
   "execution_count": null,
   "metadata": {},
   "outputs": [],
   "source": [
    "list = [\"item1\", \"item2\", \"item3\", \"item4\"]\n",
    "for i in range(len(list)):\n",
    "    print(i)\n",
    "\n",
    "print(range(5))\n",
    "\n",
    "for i in enumerate(list):\n",
    "    print(i)\n",
    "    \n",
    "    \n",
    "x, *y, z = list\n",
    "print(x)\n",
    "print(y)\n",
    "print(z, \"\\n\")\n",
    "\n",
    "meuset.add(\"item2\")\n",
    "x, *y, z = meuset\n",
    "print(x)\n",
    "print(y)\n",
    "print(z)\n",
    "\n"
   ]
  },
  {
   "cell_type": "markdown",
   "metadata": {},
   "source": [
    "# Listas Aninhadas"
   ]
  },
  {
   "cell_type": "markdown",
   "metadata": {},
   "source": [
    "\n",
    "## Objetivo:\n",
    "Criacao e manipulacao de listas aninhadas.\n"
   ]
  },
  {
   "cell_type": "code",
   "execution_count": null,
   "metadata": {},
   "outputs": [],
   "source": [
    "\n",
    "# Exemplo: Criando uma lista aninhada\n",
    "matriz = [[1, 2, 3], [4, 5, 6], [7, 8, 9]]\n",
    "print(matriz)\n"
   ]
  },
  {
   "cell_type": "code",
   "execution_count": null,
   "metadata": {},
   "outputs": [],
   "source": [
    "# Lista de listas\n",
    "matriz = [\n",
    "    [1, 2, 3],\n",
    "    [4, 5, 6],\n",
    "    [7, 8, 9]\n",
    "]\n",
    "\n",
    "# Acessando o primeiro elemento da primeira lista\n",
    "print(matriz[1][2]) \n",
    "\n",
    "# Acessando toda a segunda linha\n",
    "print(matriz[1]) \n"
   ]
  },
  {
   "cell_type": "code",
   "execution_count": null,
   "metadata": {},
   "outputs": [],
   "source": [
    "matriz = [[1, 2, 3], \n",
    "          [4, 5, 6], \n",
    "          [7, 8, 9]]\n",
    "# print(matriz,\"-\"*40, sep=\"\\n\\n\")\n",
    "\n",
    "for linha, _ in enumerate(matriz):\n",
    "    for coluna, _ in enumerate(matriz[linha]):\n",
    "        print(matriz[linha][coluna], end=\" \")\n",
    "    print(\"\")"
   ]
  },
  {
   "cell_type": "markdown",
   "metadata": {},
   "source": [
    "\n",
    "## Desafios:\n",
    "Crie uma funcao que recebe uma matriz (lista de listas) e retorna a transposta dessa matriz.\n",
    "\n",
    "Crie uma matriz 3x3 que represente um tabuleiro de jogo da velha, inicialmente vazio, onde cada célula é representada por um espaço em branco \" \" e imprima o tabuleiro.\n",
    "\n",
    "Em seguida, escreva um código que permite adicionar 'X' ou 'O' em posições especificadas pelo usuário."
   ]
  },
  {
   "cell_type": "markdown",
   "metadata": {},
   "source": [
    "### Extra \n",
    "Crie um jogo da velha"
   ]
  },
  {
   "cell_type": "markdown",
   "metadata": {},
   "source": [
    "# Dicionarios em Python"
   ]
  },
  {
   "cell_type": "markdown",
   "metadata": {},
   "source": [
    "\n",
    "## Objetivo:\n",
    "Criacao, manipulacao e aplicacao de dicionarios para solucionar problemas comuns de programacao.\n"
   ]
  },
  {
   "cell_type": "code",
   "execution_count": 1,
   "metadata": {},
   "outputs": [
    {
     "name": "stdout",
     "output_type": "stream",
     "text": [
      "{'nome': 'Alice', 'idade': 30, 'email': 'alice@example.com'}\n",
      "{'nome': 'Alice', 'idade': 30, 'email': 'alice@example.com', 'cidade': 'Sao Paulo'}\n",
      "{'nome': 'Alice', 'email': 'alice@example.com', 'cidade': 'Sao Paulo'}\n"
     ]
    }
   ],
   "source": [
    "\n",
    "# Exemplo: Criando e manipulando um dicionario\n",
    "pessoa = {\"nome\": \"Alice\", \"idade\": 30, \"email\": \"alice@example.com\"}\n",
    "print(pessoa)\n",
    "\n",
    "# Adicionando um novo par chave-valor\n",
    "pessoa[\"cidade\"] = \"Sao Paulo\"\n",
    "print(pessoa)\n",
    "\n",
    "# Removendo um par chave-valor\n",
    "del pessoa[\"idade\"]\n",
    "print(pessoa)\n"
   ]
  },
  {
   "cell_type": "markdown",
   "metadata": {},
   "source": [
    "## métodos de dicionários\n",
    "\n",
    " .get(), .keys(), .values(), e .items()\n"
   ]
  },
  {
   "cell_type": "code",
   "execution_count": 2,
   "metadata": {},
   "outputs": [
    {
     "name": "stdout",
     "output_type": "stream",
     "text": [
      "dict_keys(['nome', 'idade', 'email'])\n",
      "dict_values(['Alice', 30, 'alice@example.com'])\n",
      "dict_items([('nome', 'Alice'), ('idade', 30), ('email', 'alice@example.com')])\n"
     ]
    }
   ],
   "source": [
    "\n",
    "pessoa = {\"nome\": \"Alice\", \"idade\": 30, \"email\": \"alice@example.com\"}\n",
    "\n",
    "print(pessoa.keys())\n",
    "print(pessoa.values())\n",
    "print(pessoa.items())"
   ]
  },
  {
   "cell_type": "code",
   "execution_count": 5,
   "metadata": {},
   "outputs": [
    {
     "name": "stdout",
     "output_type": "stream",
     "text": [
      "{'nome': 'Alice', 'idade': 30, 'email': 'alice@example.com'}\n",
      "{'pessoa1': {'nome': 'Alice', 'idade': 30, 'email': 'alice@exemple.com'}, 'pessoa2': {'nome': 'Caroline', 'idade': 28, 'Email': 'caroline@example.com'}, 'pessoa3': {'nome': 'Dácio', 'idade': 18, 'Email': 'dacio@example.com'}}\n",
      "{'nome': ['Alice', 'Caroline', 'Dácio'], 'idade': [30, 28, 18], 'email': ['ali@example.com', 'caroline@example.com', 'dacio@exemple.com']}\n"
     ]
    }
   ],
   "source": [
    "pessoa = {\"nome\": \"Alice\", \"idade\": 30, \"email\": \"alice@example.com\"}\n",
    "\n",
    "pessoas = {\"pessoa1\" :\n",
    "                    {\"nome\" : \"Alice\", \"idade\" : 30, \"email\" : \"alice@exemple.com\"},\n",
    "           \"pessoa2\" :\n",
    "                    {\"nome\" : \"Caroline\", \"idade\" : 28, \"Email\" : \"caroline@example.com\"},\n",
    "           \"pessoa3\" :\n",
    "                    {\"nome\" : \"Dácio\", \"idade\" : 18, \"Email\" : \"dacio@example.com\"}\n",
    "        }\n",
    "\n",
    "clientes = {\n",
    "            \"nome\" : [\"Alice\", \"Caroline\", \"Dácio\"],\n",
    "            \"idade\" : [30, 28, 18],\n",
    "            \"email\" : [\"ali@example.com\", \"caroline@example.com\", \"dacio@exemple.com\"]\n",
    "}\n",
    "\n",
    "# O dicionário todo\n",
    "print(pessoa)\n",
    "print(pessoas)\n",
    "print(clientes)\n"
   ]
  },
  {
   "cell_type": "code",
   "execution_count": 7,
   "metadata": {},
   "outputs": [
    {
     "name": "stdout",
     "output_type": "stream",
     "text": [
      "30\n",
      "30\n",
      "None\n"
     ]
    }
   ],
   "source": [
    "pessoa = {\"nome\": \"Alice\", \"idade\": 30, \"email\": \"alice@example.com\"}\n",
    "\n",
    "# Acessando um valor\n",
    "\n",
    "print(pessoa[\"idade\"])\n",
    "print(pessoa.get(\"idade\"))\n",
    "\n",
    "\n",
    "# print(pessoa[\"curso\"])\n",
    "print(pessoa.get(\"curso\"))\n",
    "\n"
   ]
  },
  {
   "cell_type": "code",
   "execution_count": 8,
   "metadata": {},
   "outputs": [
    {
     "name": "stdout",
     "output_type": "stream",
     "text": [
      "30\n",
      "Curso não encontrado.\n"
     ]
    }
   ],
   "source": [
    "\n",
    "# Usando get para evitar KeyError\n",
    "print(pessoa.get(\"idade\", \"Idade não encontrada.\"))\n",
    "print(pessoa.get(\"curso\", \"Curso não encontrado.\"))\n"
   ]
  },
  {
   "cell_type": "code",
   "execution_count": 9,
   "metadata": {},
   "outputs": [
    {
     "name": "stdout",
     "output_type": "stream",
     "text": [
      "Física\n",
      "dict_keys(['nome', 'idade', 'email', 'curso'])\n",
      "dict_values(['Alice', 31, 'alice@example.com', 'Física'])\n",
      "dict_items([('nome', 'Alice'), ('idade', 31), ('email', 'alice@example.com'), ('curso', 'Física')])\n"
     ]
    }
   ],
   "source": [
    "\n",
    "# Adicinando curso\n",
    "pessoa.update({\"idade\": 31})\n",
    "pessoa.update({\"curso\": \"Física\"})\n",
    "print(pessoa.get(\"curso\", \"Curso não encontrada.\"))\n",
    "\n",
    "# Listando chaves e valores\n",
    "print(pessoa.keys())\n",
    "print(pessoa.values())\n",
    "\n",
    "# Lista de tuplas de pares (chave, valor)\n",
    "print(pessoa.items())\n"
   ]
  },
  {
   "cell_type": "markdown",
   "metadata": {},
   "source": [
    "\n",
    "## Desafios:\n",
    "\n",
    "Crie um dicionário para armazenar informações sobre um livro, incluindo título, autor e ano de publicação. Adicione um campo de gênero e remova o ano de publicação.\n",
    "\n",
    "\n",
    "Crie um dicionario que represente um catalogo de produtos de uma loja. Cada chave é o nome do produto e o valor é o preco do produto. \n",
    "Adicione pelo menos tres produtos ao catalogo. Em seguida, adicione uma funcionalidade para aplicar um desconto de 10% em todos os produtos.\n"
   ]
  },
  {
   "cell_type": "markdown",
   "metadata": {},
   "source": [
    "# Listas vs Dicionários\n",
    "principais diferenças entre listas e dicionários, enfatizando a indexação por chaves únicas nos dicionários em contraste com a indexação baseada em posição nas listas."
   ]
  },
  {
   "cell_type": "markdown",
   "metadata": {},
   "source": [
    "# Manipulacao Avancada de Listas e Dicionarios"
   ]
  },
  {
   "cell_type": "markdown",
   "metadata": {},
   "source": [
    "\n",
    "## Objetivo:\n",
    "Tecnicas avancadas para filtragem, busca, e transformacao de dados nessas estruturas.\n"
   ]
  },
  {
   "cell_type": "markdown",
   "metadata": {},
   "source": [
    " Filtragem como uma maneira de selecionar elementos de uma lista que atendem a certos critérios. Por loops ou list comprehensions."
   ]
  },
  {
   "cell_type": "code",
   "execution_count": null,
   "metadata": {},
   "outputs": [],
   "source": [
    "\n",
    "# Exemplo: Filtragem avancada em listas\n",
    "numeros = [1, -2, 3, -4, 5]\n",
    "positivos = [num for num in numeros if num > 0]\n",
    "print(\"Numeros positivos:\", positivos)\n"
   ]
  },
  {
   "cell_type": "markdown",
   "metadata": {},
   "source": [
    "## Desafio\n",
    "Crie uma lista aleatória e usando list comprehensions remova todos multiplos de 5 desta lista e exiba ela.\n"
   ]
  },
  {
   "cell_type": "markdown",
   "metadata": {},
   "source": [
    "## Dicionários\n",
    "Operações mais complexas com dicionários, como filtrar dados ou transformar um dicionário em outro com base em critérios específicos."
   ]
  },
  {
   "cell_type": "code",
   "execution_count": null,
   "metadata": {},
   "outputs": [],
   "source": [
    "\n",
    "# Exemplo: Transformacao de dicionarios\n",
    "precos = {\"maca\": 1.20, \"banana\": 2.30, \"cereja\": 3.50}\n",
    "precos_com_iva = {fruta: round(preco * 1.1, 2) for fruta, preco in precos.items()}\n",
    "print(\"Precos com IVA:\", precos_com_iva)\n"
   ]
  },
  {
   "cell_type": "markdown",
   "metadata": {},
   "source": [
    "\n",
    "## Desafio:\n",
    "Dado um dicionario contendo nomes de alunos e suas respectivas notas, crie uma funcao que retorna um novo dicionario apenas com os alunos aprovados (nota >= 7).\n"
   ]
  },
  {
   "cell_type": "markdown",
   "metadata": {},
   "source": [
    "Remover elementos de listas e dicionários baseando-se em critérios específicos, não apenas por índice ou chave."
   ]
  },
  {
   "cell_type": "markdown",
   "metadata": {},
   "source": [
    "# Sets"
   ]
  },
  {
   "cell_type": "markdown",
   "metadata": {},
   "source": [
    "\n",
    "## Objetivo:\n",
    "Uso de sets (conjuntos) em Python, propriedades unicas e podem ser utilizados para resolver problemas especificos, como a remocao de duplicatas e a realizacao de operacoes de conjuntos.\n"
   ]
  },
  {
   "cell_type": "markdown",
   "metadata": {},
   "source": [
    "Sets são coleções não ordenadas de elementos únicos em Python. Úteis para garantir a unicidade dos elementos e para realizar operações de conjuntos matemáticos como união, interseção, diferença e diferença simétrica."
   ]
  },
  {
   "cell_type": "code",
   "execution_count": 13,
   "metadata": {},
   "outputs": [
    {
     "name": "stdout",
     "output_type": "stream",
     "text": [
      "{1, 2, 3, 4, 5, 6}\n",
      "set()\n",
      "{}\n"
     ]
    }
   ],
   "source": [
    "# Set de números\n",
    "numeros = {1, 2, 3, 4, 5, 6}\n",
    "print(numeros)  # Saída: {1, 2, 3, 4, 5, 6}\n",
    "\n",
    "setVazio = set([])\n",
    "dictVazio = dict()\n",
    "\n",
    "print(setVazio)\n",
    "print(dictVazio) \n"
   ]
  },
  {
   "cell_type": "markdown",
   "metadata": {},
   "source": [
    "Criar sets a partir de listas,  adicionar e remover elementos de um set e  imutabilidade de elementos dentro de sets."
   ]
  },
  {
   "cell_type": "code",
   "execution_count": 14,
   "metadata": {},
   "outputs": [
    {
     "name": "stdout",
     "output_type": "stream",
     "text": [
      "{1, 2, 3, 4, 5}\n",
      "{2, 3, 4, 5, 6}\n",
      "{1, 2, 3, 4, 5, 6, 9}\n"
     ]
    }
   ],
   "source": [
    "# Criando um set a partir de uma lista com duplicatas\n",
    "lista = [1, 2, 2, 3, 4, 4, 5]\n",
    "meu_set = set(lista)\n",
    "print(meu_set)\n",
    "\n",
    "# Adicionando e removendo elementos\n",
    "meu_set.add(6)\n",
    "meu_set.remove(1)\n",
    "print(meu_set)\n",
    "\n",
    "meu_set.add(3)\n",
    "meu_set.add(6)\n",
    "meu_set.add(9)\n",
    "meu_set.add(3)\n",
    "meu_set.add(1)\n",
    "print(meu_set)"
   ]
  },
  {
   "cell_type": "code",
   "execution_count": 15,
   "metadata": {},
   "outputs": [
    {
     "name": "stdout",
     "output_type": "stream",
     "text": [
      "{1, 2}\n"
     ]
    }
   ],
   "source": [
    "\n",
    "# Exemplo: Criando um set e adicionando elementos\n",
    "meu_set = set()\n",
    "meu_set.add(1)\n",
    "meu_set.add(2)\n",
    "meu_set.add(2)  # Tentando adicionar um duplicado\n",
    "print(meu_set)\n"
   ]
  },
  {
   "cell_type": "code",
   "execution_count": null,
   "metadata": {},
   "outputs": [],
   "source": [
    "lista = [1, 2, 2, 3, 4, 4, 5]\n",
    "meu_set = set(lista)\n",
    "print(meu_set)\n",
    "\n",
    "meu_set.add(3)\n",
    "meu_set.add(6)\n",
    "meu_set.add(9)\n",
    "meu_set.add(3)\n",
    "meu_set.add(1)\n",
    "print(meu_set)"
   ]
  },
  {
   "cell_type": "markdown",
   "metadata": {},
   "source": [
    "Operações básicas de conjuntos que podem ser realizadas com sets utilizando operadores como união (|), interseção (&), diferença (-) e diferença simétrica (^)."
   ]
  },
  {
   "cell_type": "code",
   "execution_count": 16,
   "metadata": {},
   "outputs": [
    {
     "name": "stdout",
     "output_type": "stream",
     "text": [
      "Uniao: {1, 2, 3, 4, 5}\n",
      "Intersecao: {3}\n",
      "Diferenca: {1, 2}\n",
      "Diferenca simetrica: {1, 2, 4, 5}\n"
     ]
    }
   ],
   "source": [
    "\n",
    "# Exemplo: Operacoes de conjuntos\n",
    "conjunto_a = {1, 2, 3}\n",
    "conjunto_b = {3, 4, 5}\n",
    "\n",
    "# Uniao\n",
    "print(\"Uniao:\", conjunto_a | conjunto_b)\n",
    "\n",
    "# Intersecao\n",
    "print(\"Intersecao:\", conjunto_a & conjunto_b)\n",
    "\n",
    "# Diferenca\n",
    "print(\"Diferenca:\", conjunto_a - conjunto_b)\n",
    "\n",
    "# Diferenca simetrica\n",
    "print(\"Diferenca simetrica:\", conjunto_a ^ conjunto_b)\n"
   ]
  },
  {
   "cell_type": "markdown",
   "metadata": {},
   "source": [
    "### Métodos de Sets"
   ]
  },
  {
   "cell_type": "code",
   "execution_count": 17,
   "metadata": {},
   "outputs": [
    {
     "name": "stdout",
     "output_type": "stream",
     "text": [
      "{1, 2, 3, 4, 5, 6}\n",
      "{3, 4}\n",
      "{1, 2}\n"
     ]
    }
   ],
   "source": [
    "# Criando sets\n",
    "set_a = {1, 2, 3, 4}\n",
    "set_b = {3, 4, 5, 6}\n",
    "\n",
    "# União\n",
    "print(set_a.union(set_b))  # Saída: {1, 2, 3, 4, 5, 6}\n",
    "\n",
    "# Intersecção\n",
    "print(set_a.intersection(set_b))  # Saída: {3, 4}\n",
    "\n",
    "# Diferença\n",
    "print(set_a.difference(set_b))  # Saída: {1, 2}\n"
   ]
  },
  {
   "cell_type": "code",
   "execution_count": 18,
   "metadata": {},
   "outputs": [
    {
     "name": "stdout",
     "output_type": "stream",
     "text": [
      "True\n",
      "False\n",
      "{3}\n",
      "{1, 4}\n"
     ]
    }
   ],
   "source": [
    "# Subconjuntos e superconjuntos\n",
    "set_c = {1, 2, 3}\n",
    "set_d = {1, 2}\n",
    "\n",
    "print(set_d.issubset(set_c))  # Saída: True\n",
    "print(set_d.issuperset(set_c))  \n",
    "\n",
    "# Diferença simétrica\n",
    "print(set_c.symmetric_difference(set_d))  # Saída: {3}\n",
    "\n",
    "# Adicionando e removendo elementos\n",
    "set_d.add(4)\n",
    "set_d.remove(2)\n",
    "print(set_d)  # Saída: {1, 4}\n"
   ]
  },
  {
   "cell_type": "markdown",
   "metadata": {},
   "source": [
    "\n",
    "## Desafio:\n",
    "Criar um programa que simule a operação de dois grupos de amigos decidindo para quais filmes irão juntos ao cinema. Cada grupo tem sua própria lista de filmes preferidos (com possíveis duplicatas). O programa deve determinar quais filmes são comuns a ambos os grupos (interseção) e sugerir essas opções."
   ]
  }
 ],
 "metadata": {
  "kernelspec": {
   "display_name": "Python 3",
   "language": "python",
   "name": "python3"
  },
  "language_info": {
   "codemirror_mode": {
    "name": "ipython",
    "version": 3
   },
   "file_extension": ".py",
   "mimetype": "text/x-python",
   "name": "python",
   "nbconvert_exporter": "python",
   "pygments_lexer": "ipython3",
   "version": "3.12.1"
  }
 },
 "nbformat": 4,
 "nbformat_minor": 2
}
