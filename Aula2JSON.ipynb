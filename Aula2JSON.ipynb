{
 "cells": [
  {
   "cell_type": "markdown",
   "metadata": {},
   "source": [
    "\n",
    "# Módulo JSON - JavaScript Object Notation\n",
    "Manipulacao de arquivos JSON em Python, utilizando o modulo `json` para ler e escrever esses arquivos. Muito útil para lidar com API e arquuivosde configurações..\n"
   ]
  },
  {
   "cell_type": "markdown",
   "metadata": {},
   "source": [
    "JSON (JavaScript Object Notation) é um formato leve de troca de dados, fácil de ler e escrever para humanos e fácil de parsear e gerar por máquinas. "
   ]
  },
  {
   "cell_type": "code",
   "execution_count": 1,
   "metadata": {},
   "outputs": [
    {
     "data": {
      "text/plain": [
       "{'nome': 'João', 'idade': 30, 'email': 'joao@email.com'}"
      ]
     },
     "execution_count": 1,
     "metadata": {},
     "output_type": "execute_result"
    }
   ],
   "source": [
    "{\n",
    "  \"nome\": \"João\",\n",
    "  \"idade\": 30,\n",
    "  \"email\": \"joao@email.com\"\n",
    "}\n"
   ]
  },
  {
   "cell_type": "markdown",
   "metadata": {},
   "source": [
    "Ler arquivos JSON com a função json.load(), convertendo-os em dicionários Python."
   ]
  },
  {
   "cell_type": "code",
   "execution_count": 2,
   "metadata": {},
   "outputs": [
    {
     "name": "stdout",
     "output_type": "stream",
     "text": [
      "{'empregados': [{'nome': 'João', 'idade': 30}, {'nome': 'Ana', 'idade': 25}, {'nome': 'Maria', 'idade': 35}, {'nome': 'Pedro', 'idade': 40}, {'nome': 'José', 'idade': 20}, {'nome': 'Marcos', 'idade': 30}, {'nome': 'Carlos', 'idade': 35}, {'nome': 'Jorge', 'idade': 40}, {'nome': 'Mariana', 'idade': 20}, {'nome': 'Marta', 'idade': 25}, {'nome': 'Joana', 'idade': 25}, {'nome': 'Carla', 'idade': 35}, {'nome': 'Jorge', 'idade': 40}, {'nome': 'Mariana', 'idade': 20}, {'nome': 'Marta', 'idade': 25}]}\n"
     ]
    }
   ],
   "source": [
    "\n",
    "import json\n",
    "\n",
    "# Exemplo: Leitura de um arquivo JSON\n",
    "with open('dados/saidaPessoas.json', 'r', encoding='utf-8') as arquivo_json:\n",
    "    dados = json.load(arquivo_json)\n",
    "    print(dados)\n"
   ]
  },
  {
   "cell_type": "markdown",
   "metadata": {},
   "source": [
    "Converter dicionários Python de volta para o formato JSON e escrevê-los em arquivos usando a função json.dump().\n",
    "\n",
    "        O argumento indent pode ser utilizado para a legibilidade do arquivo JSON gerado."
   ]
  },
  {
   "cell_type": "code",
   "execution_count": 6,
   "metadata": {},
   "outputs": [],
   "source": [
    "import json\n",
    "\n",
    "# Exemplo: Escrita em um arquivo JSON\n",
    "dados_novos = [{'nome': 'João', 'idade': 30}, {'nome': 'Ana', 'idade': 25}, {'nome': 'Maria', 'idade': 35},{'nome': 'Alice', 'idade': 30, 'email': 'alice@example.com'}]\n",
    "\n",
    "with open('dados/saida.json', 'w') as arquivo_json:\n",
    "    json.dump(dados_novos, arquivo_json, indent=4)\n"
   ]
  },
  {
   "cell_type": "code",
   "execution_count": 10,
   "metadata": {},
   "outputs": [
    {
     "name": "stdout",
     "output_type": "stream",
     "text": [
      "{'nome': 'João', 'idade': 25, 'cidtrjhsade': 'São Paulo'}\n"
     ]
    }
   ],
   "source": [
    "import json\n",
    "\n",
    "# Dados para serem escritos em JSON\n",
    "dados = {\"nome\": \"João\", \"idade\": 25, \"cidtrjhsade\": \"São Paulo\"}\n",
    "\n",
    "# Escrevendo JSON em um arquivo\n",
    "with open('dados/dadinhos.json', 'w', encoding = 'utf-8') as f:\n",
    "    json.dump(dados, f)\n",
    "\n",
    "# Lendo JSON de um arquivo\n",
    "with open('dados/dadinhos.json', 'r') as f:\n",
    "    dados_lidos = json.load(f)\n",
    "    print(dados_lidos)  # Saída: {'nome': 'João', 'idade': 25, 'cidade': 'São Paulo'}\n"
   ]
  },
  {
   "cell_type": "markdown",
   "metadata": {},
   "source": [
    "### Características de arquivos JSON\n",
    "\n",
    "- Formato de Dados: JSON é baseado em dois estruturas:\n",
    "  \n",
    "    - Coleções de pares chave/valor: Em várias linguagens, isso é realizado como um objeto, registro, estrutura, dicionário, tabela hash, lista de chaves ou array associativo.\n",
    "    - Listas ordenadas de valores: Na maioria das linguagens, isso é realizado como arrays, vetores, listas ou sequências.\n",
    "\n",
    "\n",
    "- Sintaxe:\n",
    "  \n",
    "    - Objetos: São delimitados por chaves { } e contêm pares chave/valor. As chaves são strings e os valores podem ser strings, números, booleanos, arrays, objetos ou null. Por exemplo: {\"nome\": \"João\", \"idade\": 30}.\n",
    "    - Arrays: São delimitados por colchetes [ ] e contêm uma lista de valores (que podem ser de qualquer tipo mencionado acima). Por exemplo: [\"apple\", \"banana\", \"cherry\"].\n",
    "    Cada elemento em um array ou cada par chave/valor em um objeto é separado por vírgula.\n",
    "\n",
    "\n",
    "- Tipos de Dados:\n",
    "  \n",
    "    - JSON suporta os seguintes tipos de dados: string, número, objeto (JSON object), array, booleano (true e false) e null.\n",
    "\n",
    "- Codificação: JSON é geralmente codificado em UTF-8.\n",
    "\n",
    "\n",
    "- Convenções:\n",
    "  \n",
    "    - Não há comentários em JSON, o que é uma diferença significativa em relação a outros formatos de arquivo de configuração como XML ou YAML.\n",
    "    - JSON não suporta referências a outras partes do mesmo JSON diretamente.\n",
    "    - A ordem dos elementos em arrays é preservada, mas a ordem dos pares chave/valor em objetos não é garantida e pode variar de uma implementação para outra."
   ]
  },
  {
   "cell_type": "markdown",
   "metadata": {},
   "source": [
    "### Trabalhando com JSONs Complexos\n",
    "\n",
    "Manipular JSONs mais complexos que contêm listas aninhadas e dicionários, demonstrando como iterar sobre esses dados."
   ]
  },
  {
   "cell_type": "code",
   "execution_count": 12,
   "metadata": {},
   "outputs": [
    {
     "name": "stdout",
     "output_type": "stream",
     "text": [
      "João 30\n",
      "Ana 25\n",
      "Maria 35\n",
      "Pedro 40\n",
      "José 20\n",
      "Marcos 30\n",
      "Carlos 35\n",
      "Jorge 40\n",
      "Mariana 20\n",
      "Marta 25\n",
      "Joana 25\n",
      "Carla 35\n",
      "Jorge 40\n",
      "Mariana 20\n",
      "Marta 25\n"
     ]
    }
   ],
   "source": [
    "# Exemplo de JSON complexo\n",
    "dados_complexos = {\n",
    "  \"empregados\": [\n",
    "    {\"nome\": \"João\", \"idade\": 30},\n",
    "    {\"nome\": \"Ana\", \"idade\": 25},\n",
    "    {\"nome\": \"Maria\", \"idade\": 35},\n",
    "    {\"nome\": \"Pedro\", \"idade\": 40},\n",
    "    {\"nome\": \"José\", \"idade\": 20},\n",
    "    {\"nome\": \"Marcos\", \"idade\": 30},\n",
    "    {\"nome\": \"Carlos\", \"idade\": 35},\n",
    "    {\"nome\": \"Jorge\", \"idade\": 40},\n",
    "    {\"nome\": \"Mariana\", \"idade\": 20},\n",
    "    {\"nome\": \"Marta\", \"idade\": 25},\n",
    "    {\"nome\": \"Joana\", \"idade\": 25},\n",
    "    {\"nome\": \"Carla\", \"idade\": 35},\n",
    "    {\"nome\": \"Jorge\", \"idade\": 40},\n",
    "    {\"nome\": \"Mariana\", \"idade\": 20},\n",
    "    {\"nome\": \"Marta\", \"idade\": 25}\n",
    "  ]\n",
    "}\n",
    "\n",
    "# Acessando dados\n",
    "for empregado in dados_complexos[\"empregados\"]:\n",
    "    print(empregado[\"nome\"], empregado[\"idade\"])\n"
   ]
  },
  {
   "cell_type": "code",
   "execution_count": 2,
   "metadata": {},
   "outputs": [],
   "source": [
    "import json\n",
    "\n",
    "dados_complexos = {\n",
    "  \"empregados\": [\n",
    "    {\"nome\": \"João\", \"idade\": True},\n",
    "    {\"nome\": \"Ana\", \"idade\": 25},\n",
    "    {\"nome\": \"Maria\", \"idade\": 35},\n",
    "    {\"nome\": \"Pedro\", \"idade\": 40},\n",
    "    {\"nome\": \"José\", \"idade\": 20},\n",
    "    {\"nome\": \"Marcos\", \"idade\": 30},\n",
    "    {\"nome\": \"Carlos\", \"idade\": 35},\n",
    "    {\"nome\": \"Jorge\", \"idade\": 40},\n",
    "    {\"nome\": \"Mariana\", \"idade\": 20},\n",
    "    {\"nome\": \"Marta\", \"idade\": 25},\n",
    "    {\"nome\": \"Joana\", \"idade\": 25},\n",
    "    {\"nome\": \"Carla\", \"idade\": 35},\n",
    "    {\"nome\": \"Jorge\", \"idade\": 40},\n",
    "    {\"nome\": \"Mariana\", \"idade\": 20},\n",
    "    {\"nome\": \"Marta\", \"idade\": 25}\n",
    "  ]\n",
    "}\n",
    "\n",
    "with open('dados/saidaPessoas.json', 'w') as arquivo_json:\n",
    "    json.dump(dados_complexos, arquivo_json, indent=4)\n"
   ]
  },
  {
   "cell_type": "code",
   "execution_count": 4,
   "metadata": {},
   "outputs": [
    {
     "name": "stdout",
     "output_type": "stream",
     "text": [
      "{'empregados': [{'nome': 'João', 'idade': True}, {'nome': 'Ana', 'idade': 25}, {'nome': 'Maria', 'idade': 35}, {'nome': 'Pedro', 'idade': 40}, {'nome': 'José', 'idade': 20}, {'nome': 'Marcos', 'idade': 30}, {'nome': 'Carlos', 'idade': 35}, {'nome': 'Jorge', 'idade': 40}, {'nome': 'Mariana', 'idade': 20}, {'nome': 'Marta', 'idade': 25}, {'nome': 'Joana', 'idade': 25}, {'nome': 'Carla', 'idade': 35}, {'nome': 'Jorge', 'idade': 40}, {'nome': 'Mariana', 'idade': 20}, {'nome': 'Marta', 'idade': 25}]}\n"
     ]
    }
   ],
   "source": [
    "import csv\n",
    "import json\n",
    "\n",
    "# Carregando e transformando JSON\n",
    "with open('dados/saidaPessoas.json', 'r', encoding='utf-8') as f:\n",
    "    dados = json.load(f)\n",
    "print(dados)\n",
    "\n",
    "# Salvando uma lista de dicionários em CSV\n",
    "usuarios = [{'nome': 'Ana', 'idade': 28}, {'nome': 'Amélia', 'idade': 34}]\n",
    "with open('dados/usuarios.csv', 'w', newline='', encoding='utf-8') as f:\n",
    "    writer = csv.DictWriter(f, fieldnames=['nome', 'idade'])\n",
    "    writer.writeheader()\n",
    "    writer.writerows(usuarios)\n",
    "    \n",
    "with open('dados/usuarios.csv', 'a', newline='', encoding='utf-8') as f:\n",
    "    writer = csv.DictWriter(f, fieldnames=['nome', 'idade'])\n",
    "    writer.writerows(dados['empregados'])\n",
    "    \n"
   ]
  },
  {
   "cell_type": "markdown",
   "metadata": {},
   "source": [
    "# ==> Voltar para Aula2Arquivos"
   ]
  },
  {
   "cell_type": "markdown",
   "metadata": {},
   "source": [
    "## Trabalho com JSON em Strings\n",
    "\n",
    "- Funções <code>json.loads() e json.dumps():</code>\n",
    "    - json.loads(): Converte uma string JSON em um objeto Python.\n",
    "    - json.dumps(): Converte um objeto Python em uma string JSON."
   ]
  },
  {
   "cell_type": "code",
   "execution_count": null,
   "metadata": {},
   "outputs": [],
   "source": [
    "import json\n",
    "\n",
    "# Convertendo string JSON para dicionário Python\n",
    "json_string = '{\"nome\": \"Bob\", \"idade\": 25, \"cidade\": \"Los Angeles\"}'\n",
    "dados = json.loads(json_string)\n",
    "\n",
    "# Convertendo dicionário Python para string JSON\n",
    "nova_string_json = json.dumps(dados, indent=4)\n",
    "print(nova_string_json)\n"
   ]
  },
  {
   "cell_type": "markdown",
   "metadata": {},
   "source": [
    "\n",
    "## Desafio:\n",
    "Escreva um script Python que le um arquivo JSON contendo uma lista de registros (por exemplo, pessoas com nome, idade e email). Seu script deve filtrar as pessoas que tem mais de 25 anos e escrever essa informacao filtrada em um novo arquivo JSON.\n"
   ]
  },
  {
   "cell_type": "markdown",
   "metadata": {},
   "source": [
    "## Integração de JSON com APIs Web\n",
    "Uso com requests: Utilizar JSON em interações com APIs web, onde o formato JSON é comumente usado para enviar e receber dados."
   ]
  },
  {
   "cell_type": "code",
   "execution_count": 7,
   "metadata": {},
   "outputs": [
    {
     "name": "stdout",
     "output_type": "stream",
     "text": [
      "{'USDBRL': {'code': 'USD', 'codein': 'BRL', 'name': 'Dólar Americano/Real Brasileiro', 'high': '5.155', 'low': '5.0875', 'varBid': '0.0604', 'pctChange': '1.19', 'bid': '5.1508', 'ask': '5.1518', 'timestamp': '1715256850', 'create_date': '2024-05-09 09:14:10'}, 'EURBRL': {'code': 'EUR', 'codein': 'BRL', 'name': 'Euro/Real Brasileiro', 'high': '5.5311', 'low': '5.4548', 'varBid': '0.0612', 'pctChange': '1.12', 'bid': '5.5266', 'ask': '5.5346', 'timestamp': '1715256841', 'create_date': '2024-05-09 09:14:01'}, 'BTCBRL': {'code': 'BTC', 'codein': 'BRL', 'name': 'Bitcoin/Real Brasileiro', 'high': '320999', 'low': '311500', 'varBid': '-2115', 'pctChange': '-0.67', 'bid': '315478', 'ask': '316120', 'timestamp': '1715256852', 'create_date': '2024-05-09 09:14:12'}}\n"
     ]
    }
   ],
   "source": [
    "import requests\n",
    "import json\n",
    "\n",
    "url = 'https://economia.awesomeapi.com.br/json/last/USD-BRL,EUR-BRL,BTC-BRL'\n",
    "headers = {'Content-Type': 'application/json'}\n",
    "\n",
    "response = requests.get(url, headers=headers)\n",
    "if response.status_code == 200:\n",
    "    dados = json.loads(response.text)\n",
    "    print(dados)\n"
   ]
  },
  {
   "cell_type": "code",
   "execution_count": 9,
   "metadata": {},
   "outputs": [
    {
     "name": "stdout",
     "output_type": "stream",
     "text": [
      "{\"cep\":\"23045040\",\"address_type\":\"Rua\",\"address_name\":\"Baicuru\",\"address\":\"Rua Baicuru\",\"state\":\"RJ\",\"district\":\"Campo Grande\",\"lat\":\"-22.91228\",\"lng\":\"-43.56066\",\"city\":\"Rio de Janeiro\",\"city_ibge\":\"3304557\",\"ddd\":\"21\"}\n"
     ]
    }
   ],
   "source": [
    "import requests\n",
    "import json\n",
    "\n",
    "url = 'https://cep.awesomeapi.com.br/json/23045040'\n",
    "headers = {'Content-Type': 'application/json'}\n",
    "\n",
    "response = requests.get(url, headers=headers)\n",
    "if response.status_code == 200:\n",
    "    dados = json.loads(response.text)\n",
    "    print(response.text)\n",
    "    # print(dados)\n"
   ]
  },
  {
   "cell_type": "markdown",
   "metadata": {},
   "source": [
    "# Regras do formato JSON\n",
    "\n",
    "- Estrutura Básica:\n",
    "  - Um JSON é construído com uma estrutura de chave (string) e valor, similar a objetos em JavaScript.\n",
    "  - Os dados são representados em pares de chave e valor, e múltiplos pares são separados por vírgulas.\n",
    "  - Chaves são strings e devem estar entre aspas duplas \".\n",
    "  - Valores podem ser strings, números, objetos JSON, arrays, booleanos (true ou false) ou null.\n",
    "- Tipos de Dados:\n",
    "  - String: Deve estar entre aspas duplas, como \"exemplo\".\n",
    "  - Número: Inteiros ou decimais, sem aspas, como 123 ou 12.3.\n",
    "  - Objeto: Coleção de pares de chave e valor envolvidos por chaves {}, como {\"nome\": \"João\", \"idade\": 30}.\n",
    "  - Array: Uma lista ordenada de valores, entre colchetes [], como [\"maçã\", \"banana\", \"cereja\"].\n",
    "  - Booleano: true ou false, sem aspas.\n",
    "  - Null: Representa um valor nulo, escrito como null, sem aspas.\n",
    "- Objetos e Arrays:\n",
    "  - Objetos permitem modelos de dados aninhados, como objetos dentro de outros objetos.\n",
    "  - Arrays podem conter vários tipos de dados, incluindo arrays, objetos e tipos de dados primitivos.\n",
    "- Formatação:\n",
    "  - Não há necessidade de terminar com ponto e vírgula ou outro delimitador.\n",
    "  - Espaços, tabulações e quebras de linha não afetam a interpretação do JSON, sendo frequentemente usados para melhorar a legibilidade.\n",
    "- Codificação:\n",
    "  - JSON deve ser codificado em UTF-8.\n",
    "- Comentários:\n",
    "  - O JSON padrão não suporta comentários. O uso de comentários pode levar a erros ao ser interpretado por parsers que seguem o padrão estritamente.\n",
    "- Sintaxe Rigorosa:\n",
    "  - Cuidado com vírgulas extras: não deve haver vírgula após o último par de chave-valor em um objeto ou o último valor em um array."
   ]
  },
  {
   "cell_type": "code",
   "execution_count": null,
   "metadata": {
    "vscode": {
     "languageId": "javascript"
    }
   },
   "outputs": [],
   "source": [
    "//  Exemplo de JSON\n",
    "\n",
    "[\n",
    "    {\n",
    "    \"nome\": \"João\",\n",
    "    \"idade\": 30,\n",
    "    \"isEstudante\": false,\n",
    "    \"cursos\": [\"Matemática\", \"Ciência\"],\n",
    "    \"endereco\": {\n",
    "        \"rua\": \"Rua Central\",\n",
    "        \"numero\": \"1000\"\n",
    "        }\n",
    "    }\n",
    "]"
   ]
  },
  {
   "cell_type": "markdown",
   "metadata": {},
   "source": [
    "## Boas Práticas em Manipulação de JSON\n",
    "- Validação de JSON: Assegurar que os dados JSON estejam corretos antes de tentar processá-los.\n",
    "  - Uso de jsonschema: Utilizar a biblioteca jsonschema para validar a estrutura de dados JSON."
   ]
  },
  {
   "cell_type": "code",
   "execution_count": null,
   "metadata": {},
   "outputs": [
    {
     "name": "stdout",
     "output_type": "stream",
     "text": [
      "None\n"
     ]
    }
   ],
   "source": [
    "from jsonschema import validate\n",
    "import json\n",
    "dados = {\"pessoa\" : {\"nome\": \"João\", \"idade\": 25, \"cidade\": \"São Paulo\"}, \"pessoa2\" : {\"nome\": \"Bob\", \"idade\": 25, \"cidade\": \"Los Angeles\"}}\n",
    "\n",
    "schema = {\n",
    "    \"type\" : \"object\",\n",
    "    \"pessoa\" : {\n",
    "        \"nome\" : {\"type\" : \"string\"},\n",
    "        \"idade\" : {\"type\" : \"number\"},\n",
    "        \"cidade\" : {\"type\" : \"string\"}\n",
    "    },\n",
    "}\n",
    "\n",
    "# Supondo que 'dados' é um dicionário obtido através de json.load()\n",
    "print(validate(instance=dados, schema=schema))\n"
   ]
  },
  {
   "cell_type": "markdown",
   "metadata": {},
   "source": [
    "Capturar exceções como JSONDecodeError para lidar com possíveis erros de formatação."
   ]
  },
  {
   "cell_type": "code",
   "execution_count": null,
   "metadata": {},
   "outputs": [
    {
     "name": "stdout",
     "output_type": "stream",
     "text": [
      "Falha ao decodificar JSON.\n"
     ]
    }
   ],
   "source": [
    "import json\n",
    "\n",
    "try:\n",
    "    with open('dados/exemplo.csv', 'r') as file:\n",
    "        dados = json.load(file)\n",
    "except json.JSONDecodeError:\n",
    "    print(\"Falha ao decodificar JSON.\")\n"
   ]
  },
  {
   "cell_type": "code",
   "execution_count": null,
   "metadata": {},
   "outputs": [
    {
     "name": "stdout",
     "output_type": "stream",
     "text": [
      "Validação bem-sucedida!\n"
     ]
    }
   ],
   "source": [
    "from jsonschema import validate, ValidationError\n",
    "import json\n",
    "\n",
    "schema = {\n",
    "    \"type\": \"object\",\n",
    "    \"properties\": {\n",
    "        \"nome\": {\"type\": \"string\"},\n",
    "        \"idade\": {\"type\": \"integer\", \"minimum\": 0}\n",
    "    },\n",
    "    \"required\": [\"nome\", \"idade\"]\n",
    "}\n",
    "\n",
    "try:\n",
    "    validate(instance={\"nome\": \"Alice\", \"idade\": 30}, schema=schema)\n",
    "    print(\"Validação bem-sucedida!\")\n",
    "except ValidationError as ve:\n",
    "    print(\"Erro de validação:\", ve)\n"
   ]
  },
  {
   "cell_type": "code",
   "execution_count": null,
   "metadata": {},
   "outputs": [],
   "source": [
    "try:\n",
    "    with open('dados.json') as file:\n",
    "        data = json.load(file)\n",
    "except FileNotFoundError:\n",
    "    print(\"Arquivo não encontrado\")\n",
    "except json.JSONDecodeError:\n",
    "    print(\"Erro ao decodificar JSON\")\n"
   ]
  }
 ],
 "metadata": {
  "kernelspec": {
   "display_name": "Python 3",
   "language": "python",
   "name": "python3"
  },
  "language_info": {
   "codemirror_mode": {
    "name": "ipython",
    "version": 3
   },
   "file_extension": ".py",
   "mimetype": "text/x-python",
   "name": "python",
   "nbconvert_exporter": "python",
   "pygments_lexer": "ipython3",
   "version": "3.12.1"
  }
 },
 "nbformat": 4,
 "nbformat_minor": 2
}
