{
 "cells": [
  {
   "cell_type": "markdown",
   "metadata": {},
   "source": [
    "# Tratamento de Excecoes Basico em Python"
   ]
  },
  {
   "cell_type": "markdown",
   "metadata": {},
   "source": [
    "\n",
    "## Objetivo:\n",
    "Tratamento de excecoes em Python, usando os blocos Try/Except para capturar e responder a erros de forma controlada, impedindo que o programa pare de funcionar.\n"
   ]
  },
  {
   "cell_type": "code",
   "execution_count": null,
   "metadata": {},
   "outputs": [
    {
     "name": "stdout",
     "output_type": "stream",
     "text": [
      "Erro: Divisao por zero nao e permitida.\n"
     ]
    }
   ],
   "source": [
    "\n",
    "# Exemplo de Try/Except\n",
    "try:\n",
    "    # Tentativa de divisao por zero\n",
    "    resultado = 10 / 0\n",
    "except ZeroDivisionError:\n",
    "    print(\"Erro: Divisao por zero nao e permitida.\")\n"
   ]
  },
  {
   "cell_type": "markdown",
   "metadata": {},
   "source": [
    "__Capture exceções específicas para evitar abafar outros erros não relacionados.__"
   ]
  },
  {
   "cell_type": "markdown",
   "metadata": {},
   "source": [
    "Use múltiplos blocos Except para capturar diferentes tipos de exceções lidando com cada um deles da forma adequada."
   ]
  },
  {
   "cell_type": "code",
   "execution_count": null,
   "metadata": {},
   "outputs": [],
   "source": [
    "try:\n",
    "    # código que pode gerar múltiplos erros\n",
    "    resultado = 10 / 0\n",
    "except ZeroDivisionError:\n",
    "    print(\"Divisão por zero.\")\n",
    "except TypeError:\n",
    "    print(\"Erro de tipo.\")\n"
   ]
  },
  {
   "cell_type": "markdown",
   "metadata": {},
   "source": [
    "\n",
    "## Desafio:\n",
    "Escreva uma função que solicita ao usuário dois números e tenta dividir o primeiro pelo segundo. Use o tratamento de exceções para lidar com a entrada inválida (ex: texto ao invés de número) e a divisão por zero, informando ao usuário a natureza do erro.\n"
   ]
  },
  {
   "cell_type": "markdown",
   "metadata": {},
   "source": [
    "# Tecnicas Avancadas de Tratamento de Excecoes em Python"
   ]
  },
  {
   "cell_type": "markdown",
   "metadata": {},
   "source": [
    "\n",
    "Tratamento de excecoes em Python, com conceitos como excecoes personalizadas e a utilizacao dos blocos `else` e `finally`.\n"
   ]
  },
  {
   "cell_type": "markdown",
   "metadata": {},
   "source": [
    " - `Else` é executado quando nenhuma exceção é capturada.\n",
    " - `Finally` é executado sempre, independentemente de uma exceção ser capturada ou não."
   ]
  },
  {
   "cell_type": "code",
   "execution_count": 5,
   "metadata": {},
   "outputs": [
    {
     "name": "stdout",
     "output_type": "stream",
     "text": [
      "O valor é muito alto.\n"
     ]
    }
   ],
   "source": [
    "\n",
    "# Exemplo de Excecao Personalizada\n",
    "class ValorMuitoAltoError(Exception):\n",
    "    pass\n",
    "\n",
    "def verificar_valor(valor):\n",
    "    if valor > 100:\n",
    "        raise ValorMuitoAltoError(\"O valor é muito alto.\")\n",
    "    else:\n",
    "        print(\"Valor dentro do limite aceitavel.\")\n",
    "        \n",
    "try:\n",
    "    verificar_valor(151)\n",
    "except ValorMuitoAltoError as e:\n",
    "    print(e)\n"
   ]
  },
  {
   "cell_type": "code",
   "execution_count": null,
   "metadata": {},
   "outputs": [
    {
     "name": "stdout",
     "output_type": "stream",
     "text": [
      "Tentando converter 'dez' para inteiro...\n",
      "Erro: Conversao falhou.\n",
      "Bloco finally executado.\n"
     ]
    }
   ],
   "source": [
    "\n",
    "# Uso de Else e Finally\n",
    "try:\n",
    "    print(\"Tentando converter 'dez' para inteiro...\")\n",
    "    num = int(\"dez\")\n",
    "except ValueError:\n",
    "    print(\"Erro: Conversao falhou.\")\n",
    "else:\n",
    "    print(f\"Conversao bem sucedida: {num}\")\n",
    "finally:\n",
    "    print(\"Bloco finally executado.\")\n"
   ]
  },
  {
   "cell_type": "markdown",
   "metadata": {},
   "source": [
    "## Exceções Personalizadas\n",
    "\n",
    "Crie exceções personalizadas com `raise` para lidar com falhas que sejam problemas específicos na implementação que você está elaborando.\n",
    "\n",
    "Exceções personalizadas melhoram a clareza do código e facilitam a depuração."
   ]
  },
  {
   "cell_type": "code",
   "execution_count": 3,
   "metadata": {},
   "outputs": [
    {
     "name": "stdout",
     "output_type": "stream",
     "text": [
      "Divisão por zero não permitida.\n"
     ]
    }
   ],
   "source": [
    "class ErrorDeDivisaoPersonalizado(Exception):\n",
    "    pass\n",
    "\n",
    "try:\n",
    "    valor = 0 / 10\n",
    "    if valor == 0:\n",
    "        raise ErrorDeDivisaoPersonalizado(\"Divisão de zero não permitida.\")\n",
    "except ErrorDeDivisaoPersonalizado as e:\n",
    "    print(e)\n"
   ]
  },
  {
   "cell_type": "markdown",
   "metadata": {},
   "source": [
    "\n",
    "## Desafio:\n",
    "Crie uma funcao que recebe uma lista de numeros e retorna uma nova lista apenas com os numeros positivos. Use uma excecao personalizada para tratar o caso em que um numero negativo e encontrado, interrompendo a execucao e retornando a lista acumulada ate o ponto da excecao.\n"
   ]
  },
  {
   "cell_type": "markdown",
   "metadata": {},
   "source": [
    "## Levantando erros com teste `assert`\n",
    "\n",
    "- Erro de entrada do usuário.\n"
   ]
  },
  {
   "cell_type": "code",
   "execution_count": 9,
   "metadata": {},
   "outputs": [
    {
     "name": "stdout",
     "output_type": "stream",
     "text": [
      "Divisor não pode ser zero.\n"
     ]
    }
   ],
   "source": [
    "def dividir(a, b):\n",
    "    assert b != 0, \"Divisor não pode ser zero.\"\n",
    "    return a / b\n",
    "\n",
    "try:\n",
    "    resultado = dividir(10, 0)\n",
    "except AssertionError as error:\n",
    "    print(error)\n"
   ]
  },
  {
   "cell_type": "markdown",
   "metadata": {},
   "source": [
    "## Desafio\n",
    "\n",
    "Implementem um módulo de cadastro de usuários para uma aplicação, utilizando exceções personalizadas para tratar erros como usuário já existente e dados de entrada inválidos. \n",
    "Utilizar o bloco else para confirmar a conclusão bem-sucedida do cadastro.\n"
   ]
  },
  {
   "cell_type": "markdown",
   "metadata": {},
   "source": [
    "## Outros tipos de erros para se ter em mente\n",
    "- Erro de valor.\n",
    "- Erro de tipo.\n",
    "- Erro de programação.\n",
    "- Erro de lógica.\n",
    "- Erro de implementação.\n",
    "- Erro de comunicação.\n",
    "- Erro de hardware.\n",
    "- Erro de software.\n",
    "- Erro de sistema.\n",
    "- Erro de rede.\n",
    "- Erro de servidor.\n",
    "- Erro de cliente.\n",
    "- Erro de conexão.\n",
    "- Erro de autenticação.\n",
    "- Erro de autorização.\n",
    "- Erro de validação.\n",
    "- Erro de segurança.\n",
    "- Erro de privacidade."
   ]
  },
  {
   "cell_type": "markdown",
   "metadata": {},
   "source": [
    "## Falhas padrões comuns recomendadas a serem tratadas\n",
    "\n",
    "- `ValueError`: Erro de valor.\n",
    "- `TypeError`: Erro de tipo.\n",
    "- `IndexError`: Erro de índice.\n",
    "- `KeyError`: Erro de chave.\n",
    "- `AttributeError`: Erro de atributo.\n",
    "- `ZeroDivisionError`: Erro de divisão por zero.\n",
    "- `FileNotFoundError`: Erro de arquivo não encontrado.\n",
    "- `ImportError`: Erro de importação.\n",
    "- `MemoryError`: Erro de memória.\n",
    "- `SyntaxError`: Erro de sintaxe.\n",
    "- `IndentationError`: Erro de indentação.\n",
    "- `NameError`: Erro de nome.\n",
    "- `OverflowError`: Erro de estouro.\n",
    "- `RuntimeError`: Erro de tempo de execução.\n",
    "- `NotImplementedError`: Erro de não implementado.\n",
    "- `RecursionError`: Erro de recursão.\n",
    "- `KeyboardInterrupt`: Erro de interrupção do teclado.\n",
    "- `KeyInterrupt`: Erro de interrupção de chave.\n",
    "- `EOFError`: Erro de fim de arquivo.\n",
    "- `IOError`: Erro de E/S.\n",
    "- `OSError`: Erro do sistema operacional.\n",
    "- `ConnectionError`: Erro de conexão.\n",
    "- `TimeoutError`: Erro de tempo limite.\n",
    "- `BrokenPipeError`: Erro de pipe quebrado.\n",
    "- `PermissionError`: Erro de permissão.\n",
    "- `FileExistsError`: Erro de arquivo existente.\n",
    "- `IsADirectoryError`: Erro de diretório.\n",
    "- `NotADirectoryError`: Erro de não diretório.\n",
    "  \n"
   ]
  }
 ],
 "metadata": {
  "kernelspec": {
   "display_name": "Python 3",
   "language": "python",
   "name": "python3"
  },
  "language_info": {
   "codemirror_mode": {
    "name": "ipython",
    "version": 3
   },
   "file_extension": ".py",
   "mimetype": "text/x-python",
   "name": "python",
   "nbconvert_exporter": "python",
   "pygments_lexer": "ipython3",
   "version": "3.12.3"
  }
 },
 "nbformat": 4,
 "nbformat_minor": 2
}
